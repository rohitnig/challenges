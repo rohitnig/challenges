{
 "cells": [
  {
   "cell_type": "markdown",
   "metadata": {},
   "source": [
    "# Carrier Home Challenge\n",
    "---\n",
    "This home challenge has been solved by Rohit Nigam on February 16th, 2021. \n",
    "\n",
    "---\n",
    "\n",
    "This notebook is divided in 4 sections\n",
    "1. Loading and Pre-processing the data\n",
    "2. Building the Models\n",
    "3. Conclusion\n",
    "4. Predicting on the test data set.\n",
    "\n",
    "---"
   ]
  },
  {
   "cell_type": "code",
   "execution_count": 1,
   "metadata": {},
   "outputs": [],
   "source": [
    "import pandas as pd\n",
    "import numpy as np\n",
    "import matplotlib.pyplot as plt\n",
    "import seaborn as sns"
   ]
  },
  {
   "cell_type": "markdown",
   "metadata": {},
   "source": [
    "# 1. Loading and pre processing the data\n",
    "---\n"
   ]
  },
  {
   "cell_type": "code",
   "execution_count": 76,
   "metadata": {},
   "outputs": [],
   "source": [
    "df_results = pd.DataFrame(columns=['Model', 'Train Recall Score', 'Test Recall Score'])"
   ]
  },
  {
   "cell_type": "code",
   "execution_count": 2,
   "metadata": {},
   "outputs": [],
   "source": [
    "df_train = pd.read_csv('2021-01-21_zeta-disease_training-data_dsi-take-home-challenge.csv')"
   ]
  },
  {
   "cell_type": "code",
   "execution_count": 3,
   "metadata": {},
   "outputs": [
    {
     "name": "stdout",
     "output_type": "stream",
     "text": [
      "<class 'pandas.core.frame.DataFrame'>\n",
      "RangeIndex: 800 entries, 0 to 799\n",
      "Data columns (total 9 columns):\n",
      " #   Column              Non-Null Count  Dtype  \n",
      "---  ------              --------------  -----  \n",
      " 0   age                 800 non-null    int64  \n",
      " 1   weight              800 non-null    int64  \n",
      " 2   bmi                 800 non-null    float64\n",
      " 3   blood_pressure      800 non-null    int64  \n",
      " 4   insulin_test        800 non-null    int64  \n",
      " 5   liver_stress_test   800 non-null    float64\n",
      " 6   cardio_stress_test  800 non-null    int64  \n",
      " 7   years_smoking       800 non-null    int64  \n",
      " 8   zeta_disease        800 non-null    int64  \n",
      "dtypes: float64(2), int64(7)\n",
      "memory usage: 56.4 KB\n"
     ]
    }
   ],
   "source": [
    "df_train.info()"
   ]
  },
  {
   "cell_type": "markdown",
   "metadata": {},
   "source": [
    "Good to see there are no nulls in any column!! :-)"
   ]
  },
  {
   "cell_type": "code",
   "execution_count": 4,
   "metadata": {},
   "outputs": [
    {
     "data": {
      "text/html": [
       "<div>\n",
       "<style scoped>\n",
       "    .dataframe tbody tr th:only-of-type {\n",
       "        vertical-align: middle;\n",
       "    }\n",
       "\n",
       "    .dataframe tbody tr th {\n",
       "        vertical-align: top;\n",
       "    }\n",
       "\n",
       "    .dataframe thead th {\n",
       "        text-align: right;\n",
       "    }\n",
       "</style>\n",
       "<table border=\"1\" class=\"dataframe\">\n",
       "  <thead>\n",
       "    <tr style=\"text-align: right;\">\n",
       "      <th></th>\n",
       "      <th>age</th>\n",
       "      <th>weight</th>\n",
       "      <th>bmi</th>\n",
       "      <th>blood_pressure</th>\n",
       "      <th>insulin_test</th>\n",
       "      <th>liver_stress_test</th>\n",
       "      <th>cardio_stress_test</th>\n",
       "      <th>years_smoking</th>\n",
       "      <th>zeta_disease</th>\n",
       "    </tr>\n",
       "  </thead>\n",
       "  <tbody>\n",
       "    <tr>\n",
       "      <th>0</th>\n",
       "      <td>54</td>\n",
       "      <td>189</td>\n",
       "      <td>27.1</td>\n",
       "      <td>80</td>\n",
       "      <td>0</td>\n",
       "      <td>1.5038</td>\n",
       "      <td>0</td>\n",
       "      <td>10</td>\n",
       "      <td>0</td>\n",
       "    </tr>\n",
       "    <tr>\n",
       "      <th>1</th>\n",
       "      <td>23</td>\n",
       "      <td>150</td>\n",
       "      <td>38.5</td>\n",
       "      <td>68</td>\n",
       "      <td>71</td>\n",
       "      <td>0.3868</td>\n",
       "      <td>55</td>\n",
       "      <td>2</td>\n",
       "      <td>0</td>\n",
       "    </tr>\n",
       "    <tr>\n",
       "      <th>2</th>\n",
       "      <td>47</td>\n",
       "      <td>186</td>\n",
       "      <td>29.9</td>\n",
       "      <td>90</td>\n",
       "      <td>0</td>\n",
       "      <td>0.2728</td>\n",
       "      <td>0</td>\n",
       "      <td>7</td>\n",
       "      <td>0</td>\n",
       "    </tr>\n",
       "    <tr>\n",
       "      <th>3</th>\n",
       "      <td>18</td>\n",
       "      <td>150</td>\n",
       "      <td>30.8</td>\n",
       "      <td>70</td>\n",
       "      <td>1033</td>\n",
       "      <td>0.6598</td>\n",
       "      <td>56</td>\n",
       "      <td>0</td>\n",
       "      <td>0</td>\n",
       "    </tr>\n",
       "    <tr>\n",
       "      <th>4</th>\n",
       "      <td>24</td>\n",
       "      <td>160</td>\n",
       "      <td>32.4</td>\n",
       "      <td>74</td>\n",
       "      <td>125</td>\n",
       "      <td>0.7608</td>\n",
       "      <td>59</td>\n",
       "      <td>2</td>\n",
       "      <td>0</td>\n",
       "    </tr>\n",
       "  </tbody>\n",
       "</table>\n",
       "</div>"
      ],
      "text/plain": [
       "   age  weight   bmi  blood_pressure  insulin_test  liver_stress_test  \\\n",
       "0   54     189  27.1              80             0             1.5038   \n",
       "1   23     150  38.5              68            71             0.3868   \n",
       "2   47     186  29.9              90             0             0.2728   \n",
       "3   18     150  30.8              70          1033             0.6598   \n",
       "4   24     160  32.4              74           125             0.7608   \n",
       "\n",
       "   cardio_stress_test  years_smoking  zeta_disease  \n",
       "0                   0             10             0  \n",
       "1                  55              2             0  \n",
       "2                   0              7             0  \n",
       "3                  56              0             0  \n",
       "4                  59              2             0  "
      ]
     },
     "execution_count": 4,
     "metadata": {},
     "output_type": "execute_result"
    }
   ],
   "source": [
    "df_train.head()"
   ]
  },
  {
   "cell_type": "code",
   "execution_count": 19,
   "metadata": {},
   "outputs": [],
   "source": [
    "X = df_train.drop('zeta_disease', axis=1)\n",
    "y = df_train['zeta_disease']"
   ]
  },
  {
   "cell_type": "code",
   "execution_count": 20,
   "metadata": {},
   "outputs": [
    {
     "data": {
      "text/html": [
       "<div>\n",
       "<style scoped>\n",
       "    .dataframe tbody tr th:only-of-type {\n",
       "        vertical-align: middle;\n",
       "    }\n",
       "\n",
       "    .dataframe tbody tr th {\n",
       "        vertical-align: top;\n",
       "    }\n",
       "\n",
       "    .dataframe thead th {\n",
       "        text-align: right;\n",
       "    }\n",
       "</style>\n",
       "<table border=\"1\" class=\"dataframe\">\n",
       "  <thead>\n",
       "    <tr style=\"text-align: right;\">\n",
       "      <th></th>\n",
       "      <th>age</th>\n",
       "      <th>weight</th>\n",
       "      <th>bmi</th>\n",
       "      <th>blood_pressure</th>\n",
       "      <th>insulin_test</th>\n",
       "      <th>liver_stress_test</th>\n",
       "      <th>cardio_stress_test</th>\n",
       "      <th>years_smoking</th>\n",
       "    </tr>\n",
       "  </thead>\n",
       "  <tbody>\n",
       "    <tr>\n",
       "      <th>0</th>\n",
       "      <td>54</td>\n",
       "      <td>189</td>\n",
       "      <td>27.1</td>\n",
       "      <td>80</td>\n",
       "      <td>0</td>\n",
       "      <td>1.5038</td>\n",
       "      <td>0</td>\n",
       "      <td>10</td>\n",
       "    </tr>\n",
       "    <tr>\n",
       "      <th>1</th>\n",
       "      <td>23</td>\n",
       "      <td>150</td>\n",
       "      <td>38.5</td>\n",
       "      <td>68</td>\n",
       "      <td>71</td>\n",
       "      <td>0.3868</td>\n",
       "      <td>55</td>\n",
       "      <td>2</td>\n",
       "    </tr>\n",
       "    <tr>\n",
       "      <th>2</th>\n",
       "      <td>47</td>\n",
       "      <td>186</td>\n",
       "      <td>29.9</td>\n",
       "      <td>90</td>\n",
       "      <td>0</td>\n",
       "      <td>0.2728</td>\n",
       "      <td>0</td>\n",
       "      <td>7</td>\n",
       "    </tr>\n",
       "    <tr>\n",
       "      <th>3</th>\n",
       "      <td>18</td>\n",
       "      <td>150</td>\n",
       "      <td>30.8</td>\n",
       "      <td>70</td>\n",
       "      <td>1033</td>\n",
       "      <td>0.6598</td>\n",
       "      <td>56</td>\n",
       "      <td>0</td>\n",
       "    </tr>\n",
       "    <tr>\n",
       "      <th>4</th>\n",
       "      <td>24</td>\n",
       "      <td>160</td>\n",
       "      <td>32.4</td>\n",
       "      <td>74</td>\n",
       "      <td>125</td>\n",
       "      <td>0.7608</td>\n",
       "      <td>59</td>\n",
       "      <td>2</td>\n",
       "    </tr>\n",
       "  </tbody>\n",
       "</table>\n",
       "</div>"
      ],
      "text/plain": [
       "   age  weight   bmi  blood_pressure  insulin_test  liver_stress_test  \\\n",
       "0   54     189  27.1              80             0             1.5038   \n",
       "1   23     150  38.5              68            71             0.3868   \n",
       "2   47     186  29.9              90             0             0.2728   \n",
       "3   18     150  30.8              70          1033             0.6598   \n",
       "4   24     160  32.4              74           125             0.7608   \n",
       "\n",
       "   cardio_stress_test  years_smoking  \n",
       "0                   0             10  \n",
       "1                  55              2  \n",
       "2                   0              7  \n",
       "3                  56              0  \n",
       "4                  59              2  "
      ]
     },
     "execution_count": 20,
     "metadata": {},
     "output_type": "execute_result"
    }
   ],
   "source": [
    "X.head()"
   ]
  },
  {
   "cell_type": "markdown",
   "metadata": {},
   "source": [
    "## 1.1. Checking the Data Imbalance"
   ]
  },
  {
   "cell_type": "code",
   "execution_count": 21,
   "metadata": {},
   "outputs": [
    {
     "name": "stderr",
     "output_type": "stream",
     "text": [
      "D:\\Anaconda3\\lib\\site-packages\\seaborn\\_decorators.py:43: FutureWarning: Pass the following variable as a keyword arg: x. From version 0.12, the only valid positional argument will be `data`, and passing other arguments without an explicit keyword will result in an error or misinterpretation.\n",
      "  FutureWarning\n"
     ]
    },
    {
     "data": {
      "text/plain": [
       "<AxesSubplot:xlabel='zeta_disease', ylabel='count'>"
      ]
     },
     "execution_count": 21,
     "metadata": {},
     "output_type": "execute_result"
    },
    {
     "data": {
      "image/png": "[encoded data removed]",
      "text/plain": [
       "<Figure size 432x288 with 1 Axes>"
      ]
     },
     "metadata": {
      "needs_background": "light"
     },
     "output_type": "display_data"
    }
   ],
   "source": [
    "sns.countplot(y)"
   ]
  },
  {
   "cell_type": "markdown",
   "metadata": {},
   "source": [
    "There is **data imbalance**. While creating the model, it needs to be countered."
   ]
  },
  {
   "cell_type": "markdown",
   "metadata": {},
   "source": [
    "---\n",
    "## 1.2. EDA and Feature Engineering"
   ]
  },
  {
   "cell_type": "markdown",
   "metadata": {},
   "source": [
    "Let us check the spread of the indicator variables."
   ]
  },
  {
   "cell_type": "code",
   "execution_count": 30,
   "metadata": {},
   "outputs": [
    {
     "data": {
      "image/png": "[encoded data removed]",
      "text/plain": [
       "<Figure size 1008x792 with 8 Axes>"
      ]
     },
     "metadata": {
      "needs_background": "light"
     },
     "output_type": "display_data"
    }
   ],
   "source": [
    "plt.figure(figsize=(14, 11))\n",
    "for col in X.columns:\n",
    "    plt.subplot(3, 3, list(X.columns).index(col)+1)\n",
    "    plt.hist(X[col])\n",
    "    plt.title(col)\n",
    "plt.show()"
   ]
  },
  {
   "cell_type": "code",
   "execution_count": 11,
   "metadata": {},
   "outputs": [
    {
     "data": {
      "text/plain": [
       "age                   2.031742\n",
       "weight                0.734588\n",
       "bmi                   0.605968\n",
       "blood_pressure       -1.357085\n",
       "insulin_test          2.827382\n",
       "liver_stress_test     2.330998\n",
       "cardio_stress_test    0.148022\n",
       "years_smoking         3.037747\n",
       "dtype: float64"
      ]
     },
     "execution_count": 11,
     "metadata": {},
     "output_type": "execute_result"
    }
   ],
   "source": [
    "X.skew()"
   ]
  },
  {
   "cell_type": "markdown",
   "metadata": {},
   "source": [
    "As we can see, the distribution of the factors - columns age, insulin_test, liver_stress_test and years_smoking are left skewed. So, I will take boxcox of them"
   ]
  },
  {
   "cell_type": "code",
   "execution_count": 31,
   "metadata": {},
   "outputs": [],
   "source": [
    "cols_skewed = ['age', 'insulin_test', 'blood_pressure', 'liver_stress_test', 'years_smoking']"
   ]
  },
  {
   "cell_type": "code",
   "execution_count": 32,
   "metadata": {},
   "outputs": [],
   "source": [
    "from scipy import stats\n",
    "\n",
    "for col in cols_skewed:\n",
    "    new_col = col+'_boxcox'\n",
    "    X[new_col] = stats.boxcox(X[col]+1)[0] #adding 1 for a workaround for zero."
   ]
  },
  {
   "cell_type": "code",
   "execution_count": 33,
   "metadata": {},
   "outputs": [],
   "source": [
    "X_noskew = X.drop(columns=cols_skewed, axis=1)"
   ]
  },
  {
   "cell_type": "code",
   "execution_count": 34,
   "metadata": {},
   "outputs": [
    {
     "data": {
      "text/html": [
       "<div>\n",
       "<style scoped>\n",
       "    .dataframe tbody tr th:only-of-type {\n",
       "        vertical-align: middle;\n",
       "    }\n",
       "\n",
       "    .dataframe tbody tr th {\n",
       "        vertical-align: top;\n",
       "    }\n",
       "\n",
       "    .dataframe thead th {\n",
       "        text-align: right;\n",
       "    }\n",
       "</style>\n",
       "<table border=\"1\" class=\"dataframe\">\n",
       "  <thead>\n",
       "    <tr style=\"text-align: right;\">\n",
       "      <th></th>\n",
       "      <th>weight</th>\n",
       "      <th>bmi</th>\n",
       "      <th>cardio_stress_test</th>\n",
       "      <th>age_boxcox</th>\n",
       "      <th>insulin_test_boxcox</th>\n",
       "      <th>blood_pressure_boxcox</th>\n",
       "      <th>liver_stress_test_boxcox</th>\n",
       "      <th>years_smoking_boxcox</th>\n",
       "    </tr>\n",
       "  </thead>\n",
       "  <tbody>\n",
       "    <tr>\n",
       "      <th>0</th>\n",
       "      <td>189</td>\n",
       "      <td>27.1</td>\n",
       "      <td>0</td>\n",
       "      <td>0.929200</td>\n",
       "      <td>0.000000</td>\n",
       "      <td>328.583216</td>\n",
       "      <td>0.379492</td>\n",
       "      <td>2.617001</td>\n",
       "    </tr>\n",
       "    <tr>\n",
       "      <th>1</th>\n",
       "      <td>150</td>\n",
       "      <td>38.5</td>\n",
       "      <td>55</td>\n",
       "      <td>0.910260</td>\n",
       "      <td>4.370475</td>\n",
       "      <td>262.586943</td>\n",
       "      <td>0.229099</td>\n",
       "      <td>1.143165</td>\n",
       "    </tr>\n",
       "    <tr>\n",
       "      <th>2</th>\n",
       "      <td>186</td>\n",
       "      <td>29.9</td>\n",
       "      <td>0</td>\n",
       "      <td>0.927113</td>\n",
       "      <td>0.000000</td>\n",
       "      <td>386.641187</td>\n",
       "      <td>0.184683</td>\n",
       "      <td>2.242928</td>\n",
       "    </tr>\n",
       "    <tr>\n",
       "      <th>3</th>\n",
       "      <td>150</td>\n",
       "      <td>30.8</td>\n",
       "      <td>56</td>\n",
       "      <td>0.901157</td>\n",
       "      <td>7.190557</td>\n",
       "      <td>273.293337</td>\n",
       "      <td>0.297846</td>\n",
       "      <td>0.000000</td>\n",
       "    </tr>\n",
       "    <tr>\n",
       "      <th>4</th>\n",
       "      <td>160</td>\n",
       "      <td>32.4</td>\n",
       "      <td>59</td>\n",
       "      <td>0.911632</td>\n",
       "      <td>4.956476</td>\n",
       "      <td>295.063446</td>\n",
       "      <td>0.314862</td>\n",
       "      <td>1.143165</td>\n",
       "    </tr>\n",
       "  </tbody>\n",
       "</table>\n",
       "</div>"
      ],
      "text/plain": [
       "   weight   bmi  cardio_stress_test  age_boxcox  insulin_test_boxcox  \\\n",
       "0     189  27.1                   0    0.929200             0.000000   \n",
       "1     150  38.5                  55    0.910260             4.370475   \n",
       "2     186  29.9                   0    0.927113             0.000000   \n",
       "3     150  30.8                  56    0.901157             7.190557   \n",
       "4     160  32.4                  59    0.911632             4.956476   \n",
       "\n",
       "   blood_pressure_boxcox  liver_stress_test_boxcox  years_smoking_boxcox  \n",
       "0             328.583216                  0.379492              2.617001  \n",
       "1             262.586943                  0.229099              1.143165  \n",
       "2             386.641187                  0.184683              2.242928  \n",
       "3             273.293337                  0.297846              0.000000  \n",
       "4             295.063446                  0.314862              1.143165  "
      ]
     },
     "execution_count": 34,
     "metadata": {},
     "output_type": "execute_result"
    }
   ],
   "source": [
    "X_noskew.head()"
   ]
  },
  {
   "cell_type": "code",
   "execution_count": 35,
   "metadata": {},
   "outputs": [
    {
     "data": {
      "image/png": "[encoded data removed]",
      "text/plain": [
       "<Figure size 1080x1080 with 8 Axes>"
      ]
     },
     "metadata": {
      "needs_background": "light"
     },
     "output_type": "display_data"
    }
   ],
   "source": [
    "plt.figure(figsize=(15, 15))\n",
    "for col in X_noskew.columns:\n",
    "    plt.subplot(4, 3, list(X_noskew.columns).index(col)+1)\n",
    "    plt.hist(X_noskew[col])\n",
    "    plt.title(col)\n",
    "plt.show()"
   ]
  },
  {
   "cell_type": "code",
   "execution_count": 36,
   "metadata": {},
   "outputs": [
    {
     "data": {
      "text/plain": [
       "weight                      0.734588\n",
       "bmi                         0.605968\n",
       "cardio_stress_test          0.148022\n",
       "age_boxcox                  0.150629\n",
       "insulin_test_boxcox        -0.015211\n",
       "blood_pressure_boxcox      -0.026759\n",
       "liver_stress_test_boxcox    0.143965\n",
       "years_smoking_boxcox       -0.012509\n",
       "dtype: float64"
      ]
     },
     "execution_count": 36,
     "metadata": {},
     "output_type": "execute_result"
    }
   ],
   "source": [
    "X_noskew.skew()"
   ]
  },
  {
   "cell_type": "markdown",
   "metadata": {},
   "source": [
    "The skewness scores and the distributions look much better now"
   ]
  },
  {
   "cell_type": "markdown",
   "metadata": {},
   "source": [
    "Let's check the spread and the outliers."
   ]
  },
  {
   "cell_type": "code",
   "execution_count": 38,
   "metadata": {},
   "outputs": [
    {
     "data": {
      "image/png": "[encoded data removed]",
      "text/plain": [
       "<Figure size 1080x864 with 8 Axes>"
      ]
     },
     "metadata": {
      "needs_background": "light"
     },
     "output_type": "display_data"
    }
   ],
   "source": [
    "plt.figure(figsize=(15, 12))\n",
    "for col in X_noskew.columns:\n",
    "    plt.subplot(3, 3, list(X_noskew.columns).index(col)+1)\n",
    "    plt.boxplot(X_noskew[col])\n",
    "    plt.title(col)\n",
    "plt.show()"
   ]
  },
  {
   "cell_type": "markdown",
   "metadata": {},
   "source": [
    "Checking the correlations"
   ]
  },
  {
   "cell_type": "code",
   "execution_count": 39,
   "metadata": {
    "scrolled": false
   },
   "outputs": [
    {
     "data": {
      "image/png": "[encoded data removed]",
      "text/plain": [
       "<Figure size 936x720 with 2 Axes>"
      ]
     },
     "metadata": {
      "needs_background": "light"
     },
     "output_type": "display_data"
    }
   ],
   "source": [
    "plt.figure(figsize=(13, 10))\n",
    "sns.heatmap(X_noskew.corr(), annot=True, cmap=\"YlGnBu\")\n",
    "plt.show()"
   ]
  },
  {
   "cell_type": "markdown",
   "metadata": {},
   "source": [
    "There are two strong correlations which can be seen\n",
    "1. The Age is related with the number of years one has smoked. As the age increases a smoker's number of years also increases.\n",
    "2. The Insulin test and the Cardio stress test are also correlated, although not very strongly.\n",
    "---"
   ]
  },
  {
   "cell_type": "markdown",
   "metadata": {},
   "source": [
    "## 1.3. Doing the train test split and scaling the data"
   ]
  },
  {
   "cell_type": "markdown",
   "metadata": {},
   "source": [
    "Time to do the train test split in the training test. As there are 800 cases, a 70:30 split will be appropriate"
   ]
  },
  {
   "cell_type": "code",
   "execution_count": 40,
   "metadata": {},
   "outputs": [],
   "source": [
    "from sklearn.model_selection import train_test_split\n",
    "X_train, X_test, y_train, y_test = train_test_split(X_noskew, y, test_size=0.3, random_state=10)"
   ]
  },
  {
   "cell_type": "markdown",
   "metadata": {},
   "source": [
    "As there are outliers, standard scaling will be prefered as the outliers don't impact it much"
   ]
  },
  {
   "cell_type": "code",
   "execution_count": 41,
   "metadata": {},
   "outputs": [],
   "source": [
    "from sklearn.preprocessing import StandardScaler\n",
    "scaler = StandardScaler()"
   ]
  },
  {
   "cell_type": "code",
   "execution_count": 42,
   "metadata": {},
   "outputs": [
    {
     "data": {
      "text/html": [
       "<div>\n",
       "<style scoped>\n",
       "    .dataframe tbody tr th:only-of-type {\n",
       "        vertical-align: middle;\n",
       "    }\n",
       "\n",
       "    .dataframe tbody tr th {\n",
       "        vertical-align: top;\n",
       "    }\n",
       "\n",
       "    .dataframe thead th {\n",
       "        text-align: right;\n",
       "    }\n",
       "</style>\n",
       "<table border=\"1\" class=\"dataframe\">\n",
       "  <thead>\n",
       "    <tr style=\"text-align: right;\">\n",
       "      <th></th>\n",
       "      <th>weight</th>\n",
       "      <th>bmi</th>\n",
       "      <th>cardio_stress_test</th>\n",
       "      <th>age_boxcox</th>\n",
       "      <th>insulin_test_boxcox</th>\n",
       "      <th>blood_pressure_boxcox</th>\n",
       "      <th>liver_stress_test_boxcox</th>\n",
       "      <th>years_smoking_boxcox</th>\n",
       "    </tr>\n",
       "  </thead>\n",
       "  <tbody>\n",
       "    <tr>\n",
       "      <th>0</th>\n",
       "      <td>1.785039</td>\n",
       "      <td>0.569672</td>\n",
       "      <td>0.435974</td>\n",
       "      <td>0.537589</td>\n",
       "      <td>0.778921</td>\n",
       "      <td>1.192382</td>\n",
       "      <td>-0.389522</td>\n",
       "      <td>-1.616452</td>\n",
       "    </tr>\n",
       "    <tr>\n",
       "      <th>1</th>\n",
       "      <td>0.251781</td>\n",
       "      <td>-1.099479</td>\n",
       "      <td>0.049056</td>\n",
       "      <td>-1.449223</td>\n",
       "      <td>1.407133</td>\n",
       "      <td>-0.413155</td>\n",
       "      <td>-0.030695</td>\n",
       "      <td>-0.787198</td>\n",
       "    </tr>\n",
       "    <tr>\n",
       "      <th>2</th>\n",
       "      <td>-0.436621</td>\n",
       "      <td>0.478391</td>\n",
       "      <td>0.919621</td>\n",
       "      <td>-0.626903</td>\n",
       "      <td>0.925485</td>\n",
       "      <td>-0.527503</td>\n",
       "      <td>0.447052</td>\n",
       "      <td>0.614799</td>\n",
       "    </tr>\n",
       "    <tr>\n",
       "      <th>3</th>\n",
       "      <td>-0.467912</td>\n",
       "      <td>-0.903875</td>\n",
       "      <td>0.629432</td>\n",
       "      <td>-1.449223</td>\n",
       "      <td>0.587491</td>\n",
       "      <td>-0.527503</td>\n",
       "      <td>-1.630501</td>\n",
       "      <td>-0.282610</td>\n",
       "    </tr>\n",
       "    <tr>\n",
       "      <th>4</th>\n",
       "      <td>-0.374039</td>\n",
       "      <td>0.647914</td>\n",
       "      <td>4.079450</td>\n",
       "      <td>1.553050</td>\n",
       "      <td>1.119427</td>\n",
       "      <td>0.057970</td>\n",
       "      <td>1.896692</td>\n",
       "      <td>0.374398</td>\n",
       "    </tr>\n",
       "  </tbody>\n",
       "</table>\n",
       "</div>"
      ],
      "text/plain": [
       "     weight       bmi  cardio_stress_test  age_boxcox  insulin_test_boxcox  \\\n",
       "0  1.785039  0.569672            0.435974    0.537589             0.778921   \n",
       "1  0.251781 -1.099479            0.049056   -1.449223             1.407133   \n",
       "2 -0.436621  0.478391            0.919621   -0.626903             0.925485   \n",
       "3 -0.467912 -0.903875            0.629432   -1.449223             0.587491   \n",
       "4 -0.374039  0.647914            4.079450    1.553050             1.119427   \n",
       "\n",
       "   blood_pressure_boxcox  liver_stress_test_boxcox  years_smoking_boxcox  \n",
       "0               1.192382                 -0.389522             -1.616452  \n",
       "1              -0.413155                 -0.030695             -0.787198  \n",
       "2              -0.527503                  0.447052              0.614799  \n",
       "3              -0.527503                 -1.630501             -0.282610  \n",
       "4               0.057970                  1.896692              0.374398  "
      ]
     },
     "execution_count": 42,
     "metadata": {},
     "output_type": "execute_result"
    }
   ],
   "source": [
    "cols_X = X_train.columns\n",
    "X_train_scaled = pd.DataFrame(scaler.fit_transform(X_train))\n",
    "X_train_scaled.columns = cols_X\n",
    "X_train_scaled.head()"
   ]
  },
  {
   "cell_type": "code",
   "execution_count": 43,
   "metadata": {
    "scrolled": true
   },
   "outputs": [
    {
     "data": {
      "text/html": [
       "<div>\n",
       "<style scoped>\n",
       "    .dataframe tbody tr th:only-of-type {\n",
       "        vertical-align: middle;\n",
       "    }\n",
       "\n",
       "    .dataframe tbody tr th {\n",
       "        vertical-align: top;\n",
       "    }\n",
       "\n",
       "    .dataframe thead th {\n",
       "        text-align: right;\n",
       "    }\n",
       "</style>\n",
       "<table border=\"1\" class=\"dataframe\">\n",
       "  <thead>\n",
       "    <tr style=\"text-align: right;\">\n",
       "      <th></th>\n",
       "      <th>weight</th>\n",
       "      <th>bmi</th>\n",
       "      <th>cardio_stress_test</th>\n",
       "      <th>age_boxcox</th>\n",
       "      <th>insulin_test_boxcox</th>\n",
       "      <th>blood_pressure_boxcox</th>\n",
       "      <th>liver_stress_test_boxcox</th>\n",
       "      <th>years_smoking_boxcox</th>\n",
       "    </tr>\n",
       "  </thead>\n",
       "  <tbody>\n",
       "    <tr>\n",
       "      <th>0</th>\n",
       "      <td>0.467465</td>\n",
       "      <td>-3.142603</td>\n",
       "      <td>-1.547808</td>\n",
       "      <td>1.669674</td>\n",
       "      <td>-1.110721</td>\n",
       "      <td>0.606378</td>\n",
       "      <td>0.840220</td>\n",
       "      <td>0.481279</td>\n",
       "    </tr>\n",
       "    <tr>\n",
       "      <th>1</th>\n",
       "      <td>-0.664513</td>\n",
       "      <td>0.789848</td>\n",
       "      <td>1.296609</td>\n",
       "      <td>-0.786767</td>\n",
       "      <td>0.569500</td>\n",
       "      <td>-0.027414</td>\n",
       "      <td>0.931911</td>\n",
       "      <td>-0.391248</td>\n",
       "    </tr>\n",
       "    <tr>\n",
       "      <th>2</th>\n",
       "      <td>-0.507293</td>\n",
       "      <td>0.246102</td>\n",
       "      <td>0.880353</td>\n",
       "      <td>-0.786767</td>\n",
       "      <td>0.778425</td>\n",
       "      <td>-0.620133</td>\n",
       "      <td>-0.879095</td>\n",
       "      <td>-0.391248</td>\n",
       "    </tr>\n",
       "    <tr>\n",
       "      <th>3</th>\n",
       "      <td>-1.513495</td>\n",
       "      <td>-1.093844</td>\n",
       "      <td>-1.547808</td>\n",
       "      <td>-0.786767</td>\n",
       "      <td>-1.110721</td>\n",
       "      <td>-2.624802</td>\n",
       "      <td>-0.220362</td>\n",
       "      <td>-1.688108</td>\n",
       "    </tr>\n",
       "    <tr>\n",
       "      <th>4</th>\n",
       "      <td>-0.947507</td>\n",
       "      <td>-0.792842</td>\n",
       "      <td>-1.547808</td>\n",
       "      <td>1.425581</td>\n",
       "      <td>-1.110721</td>\n",
       "      <td>-0.129168</td>\n",
       "      <td>-1.046888</td>\n",
       "      <td>1.152711</td>\n",
       "    </tr>\n",
       "  </tbody>\n",
       "</table>\n",
       "</div>"
      ],
      "text/plain": [
       "     weight       bmi  cardio_stress_test  age_boxcox  insulin_test_boxcox  \\\n",
       "0  0.467465 -3.142603           -1.547808    1.669674            -1.110721   \n",
       "1 -0.664513  0.789848            1.296609   -0.786767             0.569500   \n",
       "2 -0.507293  0.246102            0.880353   -0.786767             0.778425   \n",
       "3 -1.513495 -1.093844           -1.547808   -0.786767            -1.110721   \n",
       "4 -0.947507 -0.792842           -1.547808    1.425581            -1.110721   \n",
       "\n",
       "   blood_pressure_boxcox  liver_stress_test_boxcox  years_smoking_boxcox  \n",
       "0               0.606378                  0.840220              0.481279  \n",
       "1              -0.027414                  0.931911             -0.391248  \n",
       "2              -0.620133                 -0.879095             -0.391248  \n",
       "3              -2.624802                 -0.220362             -1.688108  \n",
       "4              -0.129168                 -1.046888              1.152711  "
      ]
     },
     "execution_count": 43,
     "metadata": {},
     "output_type": "execute_result"
    }
   ],
   "source": [
    "X_test_scaled = pd.DataFrame(scaler.fit_transform(X_test))\n",
    "X_test_scaled.columns = cols_X\n",
    "X_test_scaled.head()"
   ]
  },
  {
   "cell_type": "markdown",
   "metadata": {},
   "source": [
    "# 2. Building the Models\n",
    "---\n",
    "## 2.1. Logistic Regression"
   ]
  },
  {
   "cell_type": "code",
   "execution_count": 44,
   "metadata": {},
   "outputs": [],
   "source": [
    "from sklearn.linear_model import LogisticRegression\n",
    "from sklearn import metrics"
   ]
  },
  {
   "cell_type": "code",
   "execution_count": 45,
   "metadata": {},
   "outputs": [],
   "source": [
    "mod_log = LogisticRegression(class_weight=\"balanced\").fit(X_train_scaled, y_train)"
   ]
  },
  {
   "cell_type": "code",
   "execution_count": 53,
   "metadata": {},
   "outputs": [
    {
     "data": {
      "text/plain": [
       "<AxesSubplot:>"
      ]
     },
     "execution_count": 53,
     "metadata": {},
     "output_type": "execute_result"
    },
    {
     "data": {
      "image/png": "[encoded data removed]",
      "text/plain": [
       "<Figure size 432x288 with 2 Axes>"
      ]
     },
     "metadata": {
      "needs_background": "light"
     },
     "output_type": "display_data"
    }
   ],
   "source": [
    "#Plotting the confusion matrix\n",
    "sns.heatmap(metrics.confusion_matrix(y_train, mod_log.predict(X_train_scaled)), annot=True, fmt='g')"
   ]
  },
  {
   "cell_type": "code",
   "execution_count": 78,
   "metadata": {},
   "outputs": [],
   "source": [
    "df_results.loc[len(df_results)] = ['Balanced Log Regression', \n",
    "                                   metrics.recall_score(y_train, mod_log.predict(X_train_scaled)), \n",
    "                                   metrics.recall_score(y_test,  mod_log.predict(X_test_scaled))]"
   ]
  },
  {
   "cell_type": "code",
   "execution_count": 79,
   "metadata": {},
   "outputs": [
    {
     "data": {
      "text/html": [
       "<div>\n",
       "<style scoped>\n",
       "    .dataframe tbody tr th:only-of-type {\n",
       "        vertical-align: middle;\n",
       "    }\n",
       "\n",
       "    .dataframe tbody tr th {\n",
       "        vertical-align: top;\n",
       "    }\n",
       "\n",
       "    .dataframe thead th {\n",
       "        text-align: right;\n",
       "    }\n",
       "</style>\n",
       "<table border=\"1\" class=\"dataframe\">\n",
       "  <thead>\n",
       "    <tr style=\"text-align: right;\">\n",
       "      <th></th>\n",
       "      <th>Model</th>\n",
       "      <th>Train Recall Score</th>\n",
       "      <th>Test Recall Score</th>\n",
       "    </tr>\n",
       "  </thead>\n",
       "  <tbody>\n",
       "    <tr>\n",
       "      <th>0</th>\n",
       "      <td>Balanced Log Regression</td>\n",
       "      <td>0.790576</td>\n",
       "      <td>0.659091</td>\n",
       "    </tr>\n",
       "  </tbody>\n",
       "</table>\n",
       "</div>"
      ],
      "text/plain": [
       "                     Model  Train Recall Score  Test Recall Score\n",
       "0  Balanced Log Regression            0.790576           0.659091"
      ]
     },
     "execution_count": 79,
     "metadata": {},
     "output_type": "execute_result"
    }
   ],
   "source": [
    "df_results"
   ]
  },
  {
   "cell_type": "markdown",
   "metadata": {},
   "source": [
    "---"
   ]
  },
  {
   "cell_type": "markdown",
   "metadata": {},
   "source": [
    "## 2.2. Random Forests.\n",
    "\n",
    "### 2.2.1 Default Random Forest"
   ]
  },
  {
   "cell_type": "code",
   "execution_count": 179,
   "metadata": {},
   "outputs": [],
   "source": [
    "from sklearn.ensemble import RandomForestClassifier\n",
    "default_rf_model = RandomForestClassifier(class_weight=\"balanced\").fit(X_train_scaled, y_train)"
   ]
  },
  {
   "cell_type": "code",
   "execution_count": 206,
   "metadata": {},
   "outputs": [
    {
     "data": {
      "text/html": [
       "<div>\n",
       "<style scoped>\n",
       "    .dataframe tbody tr th:only-of-type {\n",
       "        vertical-align: middle;\n",
       "    }\n",
       "\n",
       "    .dataframe tbody tr th {\n",
       "        vertical-align: top;\n",
       "    }\n",
       "\n",
       "    .dataframe thead th {\n",
       "        text-align: right;\n",
       "    }\n",
       "</style>\n",
       "<table border=\"1\" class=\"dataframe\">\n",
       "  <thead>\n",
       "    <tr style=\"text-align: right;\">\n",
       "      <th></th>\n",
       "      <th>Model</th>\n",
       "      <th>Train Recall Score</th>\n",
       "      <th>Test Recall Score</th>\n",
       "    </tr>\n",
       "  </thead>\n",
       "  <tbody>\n",
       "    <tr>\n",
       "      <th>0</th>\n",
       "      <td>Balanced Log Regression</td>\n",
       "      <td>0.790576</td>\n",
       "      <td>0.659091</td>\n",
       "    </tr>\n",
       "    <tr>\n",
       "      <th>1</th>\n",
       "      <td>Default Random Forest</td>\n",
       "      <td>1.000000</td>\n",
       "      <td>0.545455</td>\n",
       "    </tr>\n",
       "  </tbody>\n",
       "</table>\n",
       "</div>"
      ],
      "text/plain": [
       "                     Model  Train Recall Score  Test Recall Score\n",
       "0  Balanced Log Regression            0.790576           0.659091\n",
       "1    Default Random Forest            1.000000           0.545455"
      ]
     },
     "execution_count": 206,
     "metadata": {},
     "output_type": "execute_result"
    }
   ],
   "source": [
    "df_results.loc[len(df_results)] = ['Default Random Forest', \n",
    "                                   metrics.recall_score(y_train, default_rf_model.predict(X_train_scaled)), \n",
    "                                   metrics.recall_score(y_test,  default_rf_model.predict(X_test_scaled))]\n",
    "df_results"
   ]
  },
  {
   "cell_type": "markdown",
   "metadata": {},
   "source": [
    "### 2.2.2. Tuned Random Forests"
   ]
  },
  {
   "cell_type": "markdown",
   "metadata": {},
   "source": [
    "Clearly, the Random Forest is heavily overfitted. With more cross folding and more tuning, a better result can be achieved in the Random Forests."
   ]
  },
  {
   "cell_type": "code",
   "execution_count": 181,
   "metadata": {},
   "outputs": [],
   "source": [
    "from sklearn.model_selection import KFold\n",
    "from sklearn.model_selection import GridSearchCV\n",
    "\n",
    "n_folds = 10"
   ]
  },
  {
   "cell_type": "markdown",
   "metadata": {},
   "source": [
    "As it is more important to predict the True values, the focus will stay on the Recalls.\n",
    "Also, because there already is cross folding, the train and test set will not be used, instead the whole set will be used"
   ]
  },
  {
   "cell_type": "code",
   "execution_count": 182,
   "metadata": {
    "scrolled": true
   },
   "outputs": [
    {
     "data": {
      "text/html": [
       "<div>\n",
       "<style scoped>\n",
       "    .dataframe tbody tr th:only-of-type {\n",
       "        vertical-align: middle;\n",
       "    }\n",
       "\n",
       "    .dataframe tbody tr th {\n",
       "        vertical-align: top;\n",
       "    }\n",
       "\n",
       "    .dataframe thead th {\n",
       "        text-align: right;\n",
       "    }\n",
       "</style>\n",
       "<table border=\"1\" class=\"dataframe\">\n",
       "  <thead>\n",
       "    <tr style=\"text-align: right;\">\n",
       "      <th></th>\n",
       "      <th>weight</th>\n",
       "      <th>bmi</th>\n",
       "      <th>cardio_stress_test</th>\n",
       "      <th>age_boxcox</th>\n",
       "      <th>insulin_test_boxcox</th>\n",
       "      <th>blood_pressure_boxcox</th>\n",
       "      <th>liver_stress_test_boxcox</th>\n",
       "      <th>years_smoking_boxcox</th>\n",
       "    </tr>\n",
       "  </thead>\n",
       "  <tbody>\n",
       "    <tr>\n",
       "      <th>0</th>\n",
       "      <td>0.519775</td>\n",
       "      <td>-0.597114</td>\n",
       "      <td>-1.418885</td>\n",
       "      <td>1.521708</td>\n",
       "      <td>-1.053140</td>\n",
       "      <td>0.531278</td>\n",
       "      <td>1.940210</td>\n",
       "      <td>1.387065</td>\n",
       "    </tr>\n",
       "    <tr>\n",
       "      <th>1</th>\n",
       "      <td>-0.701935</td>\n",
       "      <td>0.737186</td>\n",
       "      <td>0.390865</td>\n",
       "      <td>-0.512649</td>\n",
       "      <td>0.676294</td>\n",
       "      <td>-0.162840</td>\n",
       "      <td>-0.329453</td>\n",
       "      <td>-0.315353</td>\n",
       "    </tr>\n",
       "    <tr>\n",
       "      <th>2</th>\n",
       "      <td>0.425797</td>\n",
       "      <td>-0.269391</td>\n",
       "      <td>-1.418885</td>\n",
       "      <td>1.297592</td>\n",
       "      <td>-1.053140</td>\n",
       "      <td>1.141905</td>\n",
       "      <td>-0.999767</td>\n",
       "      <td>0.954976</td>\n",
       "    </tr>\n",
       "    <tr>\n",
       "      <th>3</th>\n",
       "      <td>-0.701935</td>\n",
       "      <td>-0.164052</td>\n",
       "      <td>0.423769</td>\n",
       "      <td>-1.490501</td>\n",
       "      <td>1.792224</td>\n",
       "      <td>-0.050236</td>\n",
       "      <td>0.708034</td>\n",
       "      <td>-1.635816</td>\n",
       "    </tr>\n",
       "    <tr>\n",
       "      <th>4</th>\n",
       "      <td>-0.388676</td>\n",
       "      <td>0.023219</td>\n",
       "      <td>0.522483</td>\n",
       "      <td>-0.365292</td>\n",
       "      <td>0.908179</td>\n",
       "      <td>0.178732</td>\n",
       "      <td>0.964833</td>\n",
       "      <td>-0.315353</td>\n",
       "    </tr>\n",
       "  </tbody>\n",
       "</table>\n",
       "</div>"
      ],
      "text/plain": [
       "     weight       bmi  cardio_stress_test  age_boxcox  insulin_test_boxcox  \\\n",
       "0  0.519775 -0.597114           -1.418885    1.521708            -1.053140   \n",
       "1 -0.701935  0.737186            0.390865   -0.512649             0.676294   \n",
       "2  0.425797 -0.269391           -1.418885    1.297592            -1.053140   \n",
       "3 -0.701935 -0.164052            0.423769   -1.490501             1.792224   \n",
       "4 -0.388676  0.023219            0.522483   -0.365292             0.908179   \n",
       "\n",
       "   blood_pressure_boxcox  liver_stress_test_boxcox  years_smoking_boxcox  \n",
       "0               0.531278                  1.940210              1.387065  \n",
       "1              -0.162840                 -0.329453             -0.315353  \n",
       "2               1.141905                 -0.999767              0.954976  \n",
       "3              -0.050236                  0.708034             -1.635816  \n",
       "4               0.178732                  0.964833             -0.315353  "
      ]
     },
     "execution_count": 182,
     "metadata": {},
     "output_type": "execute_result"
    }
   ],
   "source": [
    "X_scaled = pd.DataFrame(scaler.fit_transform(X_noskew))\n",
    "X_scaled.columns = cols_X\n",
    "X_scaled.head()"
   ]
  },
  {
   "cell_type": "code",
   "execution_count": 184,
   "metadata": {},
   "outputs": [],
   "source": [
    "parameters = {'max_depth': range(3, 10, 1)}\n",
    "\n",
    "rf1 = RandomForestClassifier(class_weight='balanced', n_jobs=-1)\n",
    "\n",
    "rf1 = GridSearchCV(rf1, parameters, \n",
    "                    cv=n_folds, \n",
    "                   scoring=\"recall\",\n",
    "                 return_train_score=True)\n",
    "rf1.fit(X_scaled, y)\n",
    "scores = rf1.cv_results_"
   ]
  },
  {
   "cell_type": "code",
   "execution_count": 185,
   "metadata": {},
   "outputs": [
    {
     "data": {
      "image/png": "[encoded data removed]",
      "text/plain": [
       "<Figure size 1080x720 with 1 Axes>"
      ]
     },
     "metadata": {
      "needs_background": "light"
     },
     "output_type": "display_data"
    }
   ],
   "source": [
    "plt.figure(figsize=(15, 10))\n",
    "plt.plot(scores[\"param_max_depth\"], \n",
    "         scores[\"mean_train_score\"], \n",
    "         label=\"training recall\")\n",
    "plt.plot(scores[\"param_max_depth\"], \n",
    "         scores[\"mean_test_score\"], \n",
    "         label=\"test recall\")\n",
    "plt.xlabel(\"max_depth\")\n",
    "plt.ylabel(\"Recall\")\n",
    "plt.legend()\n",
    "plt.grid()\n",
    "plt.show()"
   ]
  },
  {
   "cell_type": "markdown",
   "metadata": {},
   "source": [
    "The depth as 4 looks to be appropriate"
   ]
  },
  {
   "cell_type": "code",
   "execution_count": 207,
   "metadata": {},
   "outputs": [
    {
     "data": {
      "text/html": [
       "<div>\n",
       "<style scoped>\n",
       "    .dataframe tbody tr th:only-of-type {\n",
       "        vertical-align: middle;\n",
       "    }\n",
       "\n",
       "    .dataframe tbody tr th {\n",
       "        vertical-align: top;\n",
       "    }\n",
       "\n",
       "    .dataframe thead th {\n",
       "        text-align: right;\n",
       "    }\n",
       "</style>\n",
       "<table border=\"1\" class=\"dataframe\">\n",
       "  <thead>\n",
       "    <tr style=\"text-align: right;\">\n",
       "      <th></th>\n",
       "      <th>Model</th>\n",
       "      <th>Train Recall Score</th>\n",
       "      <th>Test Recall Score</th>\n",
       "    </tr>\n",
       "  </thead>\n",
       "  <tbody>\n",
       "    <tr>\n",
       "      <th>0</th>\n",
       "      <td>Balanced Log Regression</td>\n",
       "      <td>0.790576</td>\n",
       "      <td>0.659091</td>\n",
       "    </tr>\n",
       "    <tr>\n",
       "      <th>1</th>\n",
       "      <td>Default Random Forest</td>\n",
       "      <td>1.000000</td>\n",
       "      <td>0.545455</td>\n",
       "    </tr>\n",
       "    <tr>\n",
       "      <th>2</th>\n",
       "      <td>Random Forest 1</td>\n",
       "      <td>0.811518</td>\n",
       "      <td>0.863636</td>\n",
       "    </tr>\n",
       "  </tbody>\n",
       "</table>\n",
       "</div>"
      ],
      "text/plain": [
       "                     Model  Train Recall Score  Test Recall Score\n",
       "0  Balanced Log Regression            0.790576           0.659091\n",
       "1    Default Random Forest            1.000000           0.545455\n",
       "2          Random Forest 1            0.811518           0.863636"
      ]
     },
     "execution_count": 207,
     "metadata": {},
     "output_type": "execute_result"
    }
   ],
   "source": [
    "df_results.loc[len(df_results)] = ['Random Forest 1', \n",
    "                                   metrics.recall_score(y_train, rf1.best_estimator_.predict(X_train_scaled)), \n",
    "                                   metrics.recall_score(y_test,  rf1.best_estimator_.predict(X_test_scaled))]\n",
    "df_results"
   ]
  },
  {
   "cell_type": "code",
   "execution_count": 188,
   "metadata": {},
   "outputs": [],
   "source": [
    "parameters = {'n_estimators': range(2, 100, 1)}\n",
    "rf2 = RandomForestClassifier(max_depth=5, class_weight='balanced', n_jobs=-1)\n",
    "rf2 = GridSearchCV(rf2, parameters, \n",
    "                    cv=n_folds, \n",
    "                   scoring=\"recall\",\n",
    "                 return_train_score=True)\n",
    "rf2.fit(X_scaled, y)\n",
    "scores = rf2.cv_results_"
   ]
  },
  {
   "cell_type": "code",
   "execution_count": 189,
   "metadata": {},
   "outputs": [
    {
     "data": {
      "image/png": "[encoded data removed]",
      "text/plain": [
       "<Figure size 1080x360 with 1 Axes>"
      ]
     },
     "metadata": {
      "needs_background": "light"
     },
     "output_type": "display_data"
    }
   ],
   "source": [
    "plt.figure(figsize=(15, 5))\n",
    "plt.plot(scores[\"param_n_estimators\"], \n",
    "         scores[\"mean_train_score\"], \n",
    "         label=\"training recall\")\n",
    "plt.plot(scores[\"param_n_estimators\"], \n",
    "         scores[\"mean_test_score\"], \n",
    "         label=\"test recall\")\n",
    "plt.xlabel(\"n_estimators\")\n",
    "plt.ylabel(\"Recall\")\n",
    "plt.grid()\n",
    "plt.legend()\n",
    "plt.show()"
   ]
  },
  {
   "cell_type": "code",
   "execution_count": 190,
   "metadata": {},
   "outputs": [
    {
     "data": {
      "text/plain": [
       "76    0.799339\n",
       "Name: mean_test_score, dtype: float64"
      ]
     },
     "execution_count": 190,
     "metadata": {},
     "output_type": "execute_result"
    }
   ],
   "source": [
    "pd.DataFrame(scores).sort_values(by='mean_test_score', ascending=False).head(1)['mean_test_score']"
   ]
  },
  {
   "cell_type": "markdown",
   "metadata": {},
   "source": [
    "The number of estimators as 76 is the best with the mean test score of 79.93%"
   ]
  },
  {
   "cell_type": "code",
   "execution_count": 208,
   "metadata": {},
   "outputs": [
    {
     "data": {
      "text/html": [
       "<div>\n",
       "<style scoped>\n",
       "    .dataframe tbody tr th:only-of-type {\n",
       "        vertical-align: middle;\n",
       "    }\n",
       "\n",
       "    .dataframe tbody tr th {\n",
       "        vertical-align: top;\n",
       "    }\n",
       "\n",
       "    .dataframe thead th {\n",
       "        text-align: right;\n",
       "    }\n",
       "</style>\n",
       "<table border=\"1\" class=\"dataframe\">\n",
       "  <thead>\n",
       "    <tr style=\"text-align: right;\">\n",
       "      <th></th>\n",
       "      <th>Model</th>\n",
       "      <th>Train Recall Score</th>\n",
       "      <th>Test Recall Score</th>\n",
       "    </tr>\n",
       "  </thead>\n",
       "  <tbody>\n",
       "    <tr>\n",
       "      <th>0</th>\n",
       "      <td>Balanced Log Regression</td>\n",
       "      <td>0.790576</td>\n",
       "      <td>0.659091</td>\n",
       "    </tr>\n",
       "    <tr>\n",
       "      <th>1</th>\n",
       "      <td>Default Random Forest</td>\n",
       "      <td>1.000000</td>\n",
       "      <td>0.545455</td>\n",
       "    </tr>\n",
       "    <tr>\n",
       "      <th>2</th>\n",
       "      <td>Random Forest 1</td>\n",
       "      <td>0.811518</td>\n",
       "      <td>0.863636</td>\n",
       "    </tr>\n",
       "    <tr>\n",
       "      <th>3</th>\n",
       "      <td>Random Forest 2</td>\n",
       "      <td>0.842932</td>\n",
       "      <td>0.727273</td>\n",
       "    </tr>\n",
       "  </tbody>\n",
       "</table>\n",
       "</div>"
      ],
      "text/plain": [
       "                     Model  Train Recall Score  Test Recall Score\n",
       "0  Balanced Log Regression            0.790576           0.659091\n",
       "1    Default Random Forest            1.000000           0.545455\n",
       "2          Random Forest 1            0.811518           0.863636\n",
       "3          Random Forest 2            0.842932           0.727273"
      ]
     },
     "execution_count": 208,
     "metadata": {},
     "output_type": "execute_result"
    }
   ],
   "source": [
    "df_results.loc[len(df_results)] = ['Random Forest 2', \n",
    "                                   metrics.recall_score(y_train, rf2.best_estimator_.predict(X_train_scaled)), \n",
    "                                   metrics.recall_score(y_test,  rf2.best_estimator_.predict(X_test_scaled))]\n",
    "df_results"
   ]
  },
  {
   "cell_type": "code",
   "execution_count": 192,
   "metadata": {},
   "outputs": [],
   "source": [
    "parameters = {'max_features': range(1, 9)}\n",
    "rf3 = RandomForestClassifier(max_depth=4, n_estimators=9, class_weight='balanced', n_jobs=-1)\n",
    "rf3 = GridSearchCV(rf3, parameters, \n",
    "                    cv=n_folds, \n",
    "                   scoring=\"recall\",\n",
    "                 return_train_score=True)\n",
    "rf3.fit(X_train_scaled, y_train)\n",
    "scores = rf3.cv_results_"
   ]
  },
  {
   "cell_type": "code",
   "execution_count": 193,
   "metadata": {},
   "outputs": [
    {
     "data": {
      "image/png": "[encoded data removed]",
      "text/plain": [
       "<Figure size 1080x360 with 1 Axes>"
      ]
     },
     "metadata": {
      "needs_background": "light"
     },
     "output_type": "display_data"
    }
   ],
   "source": [
    "plt.figure(figsize=(15, 5))\n",
    "plt.plot(scores[\"param_max_features\"], \n",
    "         scores[\"mean_train_score\"], \n",
    "         label=\"training recall\")\n",
    "plt.plot(scores[\"param_max_features\"], \n",
    "         scores[\"mean_test_score\"], \n",
    "         label=\"test recall\")\n",
    "plt.xlabel(\"max_features\")\n",
    "plt.ylabel(\"Recall\")\n",
    "plt.legend()\n",
    "plt.show()"
   ]
  },
  {
   "cell_type": "code",
   "execution_count": 194,
   "metadata": {},
   "outputs": [
    {
     "data": {
      "text/html": [
       "<div>\n",
       "<style scoped>\n",
       "    .dataframe tbody tr th:only-of-type {\n",
       "        vertical-align: middle;\n",
       "    }\n",
       "\n",
       "    .dataframe tbody tr th {\n",
       "        vertical-align: top;\n",
       "    }\n",
       "\n",
       "    .dataframe thead th {\n",
       "        text-align: right;\n",
       "    }\n",
       "</style>\n",
       "<table border=\"1\" class=\"dataframe\">\n",
       "  <thead>\n",
       "    <tr style=\"text-align: right;\">\n",
       "      <th></th>\n",
       "      <th>params</th>\n",
       "      <th>mean_train_score</th>\n",
       "      <th>mean_test_score</th>\n",
       "    </tr>\n",
       "  </thead>\n",
       "  <tbody>\n",
       "    <tr>\n",
       "      <th>1</th>\n",
       "      <td>{'max_features': 2}</td>\n",
       "      <td>0.826649</td>\n",
       "      <td>0.732895</td>\n",
       "    </tr>\n",
       "    <tr>\n",
       "      <th>2</th>\n",
       "      <td>{'max_features': 3}</td>\n",
       "      <td>0.841782</td>\n",
       "      <td>0.727632</td>\n",
       "    </tr>\n",
       "    <tr>\n",
       "      <th>5</th>\n",
       "      <td>{'max_features': 6}</td>\n",
       "      <td>0.830120</td>\n",
       "      <td>0.727368</td>\n",
       "    </tr>\n",
       "    <tr>\n",
       "      <th>7</th>\n",
       "      <td>{'max_features': 8}</td>\n",
       "      <td>0.852247</td>\n",
       "      <td>0.716842</td>\n",
       "    </tr>\n",
       "    <tr>\n",
       "      <th>3</th>\n",
       "      <td>{'max_features': 4}</td>\n",
       "      <td>0.823178</td>\n",
       "      <td>0.716579</td>\n",
       "    </tr>\n",
       "    <tr>\n",
       "      <th>4</th>\n",
       "      <td>{'max_features': 5}</td>\n",
       "      <td>0.838845</td>\n",
       "      <td>0.701842</td>\n",
       "    </tr>\n",
       "    <tr>\n",
       "      <th>6</th>\n",
       "      <td>{'max_features': 7}</td>\n",
       "      <td>0.842931</td>\n",
       "      <td>0.696053</td>\n",
       "    </tr>\n",
       "    <tr>\n",
       "      <th>0</th>\n",
       "      <td>{'max_features': 1}</td>\n",
       "      <td>0.826074</td>\n",
       "      <td>0.675263</td>\n",
       "    </tr>\n",
       "  </tbody>\n",
       "</table>\n",
       "</div>"
      ],
      "text/plain": [
       "                params  mean_train_score  mean_test_score\n",
       "1  {'max_features': 2}          0.826649         0.732895\n",
       "2  {'max_features': 3}          0.841782         0.727632\n",
       "5  {'max_features': 6}          0.830120         0.727368\n",
       "7  {'max_features': 8}          0.852247         0.716842\n",
       "3  {'max_features': 4}          0.823178         0.716579\n",
       "4  {'max_features': 5}          0.838845         0.701842\n",
       "6  {'max_features': 7}          0.842931         0.696053\n",
       "0  {'max_features': 1}          0.826074         0.675263"
      ]
     },
     "execution_count": 194,
     "metadata": {},
     "output_type": "execute_result"
    }
   ],
   "source": [
    "pd.DataFrame(scores).sort_values(by='mean_test_score', ascending=False)[['params', 'mean_train_score', 'mean_test_score']]"
   ]
  },
  {
   "cell_type": "markdown",
   "metadata": {},
   "source": [
    "So, we can have a decent recall score of 73.29% with 2 features."
   ]
  },
  {
   "cell_type": "code",
   "execution_count": 209,
   "metadata": {
    "scrolled": true
   },
   "outputs": [
    {
     "data": {
      "text/html": [
       "<div>\n",
       "<style scoped>\n",
       "    .dataframe tbody tr th:only-of-type {\n",
       "        vertical-align: middle;\n",
       "    }\n",
       "\n",
       "    .dataframe tbody tr th {\n",
       "        vertical-align: top;\n",
       "    }\n",
       "\n",
       "    .dataframe thead th {\n",
       "        text-align: right;\n",
       "    }\n",
       "</style>\n",
       "<table border=\"1\" class=\"dataframe\">\n",
       "  <thead>\n",
       "    <tr style=\"text-align: right;\">\n",
       "      <th></th>\n",
       "      <th>Model</th>\n",
       "      <th>Train Recall Score</th>\n",
       "      <th>Test Recall Score</th>\n",
       "    </tr>\n",
       "  </thead>\n",
       "  <tbody>\n",
       "    <tr>\n",
       "      <th>0</th>\n",
       "      <td>Balanced Log Regression</td>\n",
       "      <td>0.790576</td>\n",
       "      <td>0.659091</td>\n",
       "    </tr>\n",
       "    <tr>\n",
       "      <th>1</th>\n",
       "      <td>Default Random Forest</td>\n",
       "      <td>1.000000</td>\n",
       "      <td>0.545455</td>\n",
       "    </tr>\n",
       "    <tr>\n",
       "      <th>2</th>\n",
       "      <td>Random Forest 1</td>\n",
       "      <td>0.811518</td>\n",
       "      <td>0.863636</td>\n",
       "    </tr>\n",
       "    <tr>\n",
       "      <th>3</th>\n",
       "      <td>Random Forest 2</td>\n",
       "      <td>0.842932</td>\n",
       "      <td>0.727273</td>\n",
       "    </tr>\n",
       "    <tr>\n",
       "      <th>4</th>\n",
       "      <td>Random Forest 3</td>\n",
       "      <td>0.884817</td>\n",
       "      <td>0.750000</td>\n",
       "    </tr>\n",
       "  </tbody>\n",
       "</table>\n",
       "</div>"
      ],
      "text/plain": [
       "                     Model  Train Recall Score  Test Recall Score\n",
       "0  Balanced Log Regression            0.790576           0.659091\n",
       "1    Default Random Forest            1.000000           0.545455\n",
       "2          Random Forest 1            0.811518           0.863636\n",
       "3          Random Forest 2            0.842932           0.727273\n",
       "4          Random Forest 3            0.884817           0.750000"
      ]
     },
     "execution_count": 209,
     "metadata": {},
     "output_type": "execute_result"
    }
   ],
   "source": [
    "df_results.loc[len(df_results)] = ['Random Forest 3', \n",
    "                                   metrics.recall_score(y_train, rf3.best_estimator_.predict(X_train_scaled)), \n",
    "                                   metrics.recall_score(y_test,  rf3.best_estimator_.predict(X_test_scaled))]\n",
    "df_results"
   ]
  },
  {
   "cell_type": "code",
   "execution_count": 196,
   "metadata": {},
   "outputs": [],
   "source": [
    "parameters = {'min_samples_leaf': range(1, 41)}\n",
    "rf4 = RandomForestClassifier(max_depth=4, n_estimators=9, max_features=5, n_jobs=-1)\n",
    "rf4 = GridSearchCV(rf4, parameters, \n",
    "                    cv=n_folds, \n",
    "                   scoring=\"recall\",\n",
    "                 return_train_score=True)\n",
    "rf4.fit(X_train_scaled, y_train)\n",
    "scores = rf4.cv_results_"
   ]
  },
  {
   "cell_type": "code",
   "execution_count": 197,
   "metadata": {},
   "outputs": [
    {
     "data": {
      "image/png": "[encoded data removed]",
      "text/plain": [
       "<Figure size 1080x360 with 1 Axes>"
      ]
     },
     "metadata": {
      "needs_background": "light"
     },
     "output_type": "display_data"
    }
   ],
   "source": [
    "plt.figure(figsize=(15, 5))\n",
    "plt.plot(scores[\"param_min_samples_leaf\"], \n",
    "         scores[\"mean_train_score\"], \n",
    "         label=\"training recall\")\n",
    "plt.plot(scores[\"param_min_samples_leaf\"], \n",
    "         scores[\"mean_test_score\"], \n",
    "         label=\"test recall\")\n",
    "plt.xlabel(\"min_samples_leaf\")\n",
    "plt.ylabel(\"Recall\")\n",
    "plt.legend()\n",
    "plt.show()"
   ]
  },
  {
   "cell_type": "code",
   "execution_count": 198,
   "metadata": {},
   "outputs": [
    {
     "data": {
      "text/plain": [
       "5    0.606842\n",
       "Name: mean_test_score, dtype: float64"
      ]
     },
     "execution_count": 198,
     "metadata": {},
     "output_type": "execute_result"
    }
   ],
   "source": [
    "pd.DataFrame(scores).sort_values(by='mean_test_score', ascending=False).head(1)['mean_test_score']"
   ]
  },
  {
   "cell_type": "markdown",
   "metadata": {},
   "source": [
    "Again, the best recall of 58.63% is achieved with the min_samples_leaf as 11. "
   ]
  },
  {
   "cell_type": "code",
   "execution_count": 210,
   "metadata": {
    "scrolled": true
   },
   "outputs": [
    {
     "data": {
      "text/html": [
       "<div>\n",
       "<style scoped>\n",
       "    .dataframe tbody tr th:only-of-type {\n",
       "        vertical-align: middle;\n",
       "    }\n",
       "\n",
       "    .dataframe tbody tr th {\n",
       "        vertical-align: top;\n",
       "    }\n",
       "\n",
       "    .dataframe thead th {\n",
       "        text-align: right;\n",
       "    }\n",
       "</style>\n",
       "<table border=\"1\" class=\"dataframe\">\n",
       "  <thead>\n",
       "    <tr style=\"text-align: right;\">\n",
       "      <th></th>\n",
       "      <th>Model</th>\n",
       "      <th>Train Recall Score</th>\n",
       "      <th>Test Recall Score</th>\n",
       "    </tr>\n",
       "  </thead>\n",
       "  <tbody>\n",
       "    <tr>\n",
       "      <th>0</th>\n",
       "      <td>Balanced Log Regression</td>\n",
       "      <td>0.790576</td>\n",
       "      <td>0.659091</td>\n",
       "    </tr>\n",
       "    <tr>\n",
       "      <th>1</th>\n",
       "      <td>Default Random Forest</td>\n",
       "      <td>1.000000</td>\n",
       "      <td>0.545455</td>\n",
       "    </tr>\n",
       "    <tr>\n",
       "      <th>2</th>\n",
       "      <td>Random Forest 1</td>\n",
       "      <td>0.811518</td>\n",
       "      <td>0.863636</td>\n",
       "    </tr>\n",
       "    <tr>\n",
       "      <th>3</th>\n",
       "      <td>Random Forest 2</td>\n",
       "      <td>0.842932</td>\n",
       "      <td>0.727273</td>\n",
       "    </tr>\n",
       "    <tr>\n",
       "      <th>4</th>\n",
       "      <td>Random Forest 3</td>\n",
       "      <td>0.884817</td>\n",
       "      <td>0.750000</td>\n",
       "    </tr>\n",
       "    <tr>\n",
       "      <th>5</th>\n",
       "      <td>Random Forest 4</td>\n",
       "      <td>0.638743</td>\n",
       "      <td>0.465909</td>\n",
       "    </tr>\n",
       "  </tbody>\n",
       "</table>\n",
       "</div>"
      ],
      "text/plain": [
       "                     Model  Train Recall Score  Test Recall Score\n",
       "0  Balanced Log Regression            0.790576           0.659091\n",
       "1    Default Random Forest            1.000000           0.545455\n",
       "2          Random Forest 1            0.811518           0.863636\n",
       "3          Random Forest 2            0.842932           0.727273\n",
       "4          Random Forest 3            0.884817           0.750000\n",
       "5          Random Forest 4            0.638743           0.465909"
      ]
     },
     "execution_count": 210,
     "metadata": {},
     "output_type": "execute_result"
    }
   ],
   "source": [
    "df_results.loc[len(df_results)] = ['Random Forest 4', \n",
    "                                   metrics.recall_score(y_train, rf4.best_estimator_.predict(X_train_scaled)), \n",
    "                                   metrics.recall_score(y_test,  rf4.best_estimator_.predict(X_test_scaled))]\n",
    "df_results"
   ]
  },
  {
   "cell_type": "markdown",
   "metadata": {},
   "source": [
    "---\n",
    "## 2.3. Zeroing to best model and model analysis"
   ]
  },
  {
   "cell_type": "markdown",
   "metadata": {},
   "source": [
    "We have hit the maximum recall with the RF1 model. Let us look at the details of this model now"
   ]
  },
  {
   "cell_type": "code",
   "execution_count": 211,
   "metadata": {},
   "outputs": [],
   "source": [
    "best_model = rf1.best_estimator_"
   ]
  },
  {
   "cell_type": "code",
   "execution_count": 214,
   "metadata": {},
   "outputs": [
    {
     "data": {
      "text/plain": [
       "RandomForestClassifier(class_weight='balanced', max_depth=5, n_jobs=-1)"
      ]
     },
     "execution_count": 214,
     "metadata": {},
     "output_type": "execute_result"
    }
   ],
   "source": [
    "best_model.fit(X_scaled, y)"
   ]
  },
  {
   "cell_type": "code",
   "execution_count": 232,
   "metadata": {},
   "outputs": [
    {
     "name": "stdout",
     "output_type": "stream",
     "text": [
      "The recall score of the best model is  85.23 %\n"
     ]
    }
   ],
   "source": [
    "print ('The recall score of the best model is ',\n",
    "       round(100*metrics.recall_score(y_test, best_model.predict(X_test_scaled)), 2),\n",
    "       '%')"
   ]
  },
  {
   "cell_type": "code",
   "execution_count": 224,
   "metadata": {},
   "outputs": [
    {
     "data": {
      "text/html": [
       "<div>\n",
       "<style scoped>\n",
       "    .dataframe tbody tr th:only-of-type {\n",
       "        vertical-align: middle;\n",
       "    }\n",
       "\n",
       "    .dataframe tbody tr th {\n",
       "        vertical-align: top;\n",
       "    }\n",
       "\n",
       "    .dataframe thead th {\n",
       "        text-align: right;\n",
       "    }\n",
       "</style>\n",
       "<table border=\"1\" class=\"dataframe\">\n",
       "  <thead>\n",
       "    <tr style=\"text-align: right;\">\n",
       "      <th></th>\n",
       "      <th>Feature</th>\n",
       "      <th>Importance</th>\n",
       "    </tr>\n",
       "  </thead>\n",
       "  <tbody>\n",
       "    <tr>\n",
       "      <th>0</th>\n",
       "      <td>weight</td>\n",
       "      <td>0.335332</td>\n",
       "    </tr>\n",
       "    <tr>\n",
       "      <th>1</th>\n",
       "      <td>bmi</td>\n",
       "      <td>0.175200</td>\n",
       "    </tr>\n",
       "    <tr>\n",
       "      <th>3</th>\n",
       "      <td>age_boxcox</td>\n",
       "      <td>0.168706</td>\n",
       "    </tr>\n",
       "    <tr>\n",
       "      <th>6</th>\n",
       "      <td>liver_stress_test_boxcox</td>\n",
       "      <td>0.088070</td>\n",
       "    </tr>\n",
       "    <tr>\n",
       "      <th>7</th>\n",
       "      <td>years_smoking_boxcox</td>\n",
       "      <td>0.075726</td>\n",
       "    </tr>\n",
       "    <tr>\n",
       "      <th>4</th>\n",
       "      <td>insulin_test_boxcox</td>\n",
       "      <td>0.067846</td>\n",
       "    </tr>\n",
       "    <tr>\n",
       "      <th>2</th>\n",
       "      <td>cardio_stress_test</td>\n",
       "      <td>0.053713</td>\n",
       "    </tr>\n",
       "    <tr>\n",
       "      <th>5</th>\n",
       "      <td>blood_pressure_boxcox</td>\n",
       "      <td>0.035407</td>\n",
       "    </tr>\n",
       "  </tbody>\n",
       "</table>\n",
       "</div>"
      ],
      "text/plain": [
       "                    Feature  Importance\n",
       "0                    weight    0.335332\n",
       "1                       bmi    0.175200\n",
       "3                age_boxcox    0.168706\n",
       "6  liver_stress_test_boxcox    0.088070\n",
       "7      years_smoking_boxcox    0.075726\n",
       "4       insulin_test_boxcox    0.067846\n",
       "2        cardio_stress_test    0.053713\n",
       "5     blood_pressure_boxcox    0.035407"
      ]
     },
     "execution_count": 224,
     "metadata": {},
     "output_type": "execute_result"
    }
   ],
   "source": [
    "df_feature_importance = pd.DataFrame(columns=['Feature', 'Importance'])\n",
    "df_feature_importance.Feature = X_scaled.columns\n",
    "df_feature_importance.Importance = best_model.feature_importances_\n",
    "df_feature_importance.sort_values(by='Importance', ascending=False, inplace=True)\n",
    "df_feature_importance"
   ]
  },
  {
   "cell_type": "code",
   "execution_count": 231,
   "metadata": {},
   "outputs": [
    {
     "data": {
      "text/plain": [
       "Text(0, 0.5, 'Feature')"
      ]
     },
     "execution_count": 231,
     "metadata": {},
     "output_type": "execute_result"
    },
    {
     "data": {
      "image/png": "[encoded data removed]",
      "text/plain": [
       "<Figure size 864x360 with 1 Axes>"
      ]
     },
     "metadata": {
      "needs_background": "light"
     },
     "output_type": "display_data"
    }
   ],
   "source": [
    "plt.figure(figsize=(12, 5))\n",
    "sns.barplot(x='Importance', y='Feature', data=df_feature_importance, palette='vlag')\n",
    "plt.xlabel('Importance', fontsize=14)\n",
    "plt.ylabel('Feature', fontsize=14)"
   ]
  },
  {
   "cell_type": "markdown",
   "metadata": {},
   "source": [
    "# 3. Conculsion from the model:\n",
    "\n",
    "The metrics that has been used in the model building is **recall**. The problem statment says we need to make the correct prediction in the cases who will be infected from the disease. \n",
    "\n",
    "The forumla for recall is given as $\\frac{True Positive}{True Positive + False Negative}$ and hence having a high recall value ensures that there are lease False Negatives. Hence the model will be able to catch more of the infection possibilities\n",
    "\n",
    "The three risk factors which have the hightest impact are **weight**, **bmi** and the **age**. Hence people who have are older and have a higher weight and bmi should be more cautious in the International Mars Colony as they have the highest chances of zeta infection"
   ]
  },
  {
   "cell_type": "markdown",
   "metadata": {},
   "source": [
    "---\n",
    "# 4. Predicting from the Test data\n",
    "---\n",
    "## 4.1. Doing the same data transformations as done on the Training data set"
   ]
  },
  {
   "cell_type": "code",
   "execution_count": 235,
   "metadata": {},
   "outputs": [
    {
     "data": {
      "text/html": [
       "<div>\n",
       "<style scoped>\n",
       "    .dataframe tbody tr th:only-of-type {\n",
       "        vertical-align: middle;\n",
       "    }\n",
       "\n",
       "    .dataframe tbody tr th {\n",
       "        vertical-align: top;\n",
       "    }\n",
       "\n",
       "    .dataframe thead th {\n",
       "        text-align: right;\n",
       "    }\n",
       "</style>\n",
       "<table border=\"1\" class=\"dataframe\">\n",
       "  <thead>\n",
       "    <tr style=\"text-align: right;\">\n",
       "      <th></th>\n",
       "      <th>age</th>\n",
       "      <th>weight</th>\n",
       "      <th>bmi</th>\n",
       "      <th>blood_pressure</th>\n",
       "      <th>insulin_test</th>\n",
       "      <th>liver_stress_test</th>\n",
       "      <th>cardio_stress_test</th>\n",
       "      <th>years_smoking</th>\n",
       "      <th>zeta_disease</th>\n",
       "    </tr>\n",
       "  </thead>\n",
       "  <tbody>\n",
       "    <tr>\n",
       "      <th>0</th>\n",
       "      <td>24</td>\n",
       "      <td>151</td>\n",
       "      <td>39.5</td>\n",
       "      <td>69</td>\n",
       "      <td>72</td>\n",
       "      <td>1.3968</td>\n",
       "      <td>56</td>\n",
       "      <td>4</td>\n",
       "      <td>NaN</td>\n",
       "    </tr>\n",
       "    <tr>\n",
       "      <th>1</th>\n",
       "      <td>27</td>\n",
       "      <td>179</td>\n",
       "      <td>35.5</td>\n",
       "      <td>89</td>\n",
       "      <td>156</td>\n",
       "      <td>1.6608</td>\n",
       "      <td>43</td>\n",
       "      <td>6</td>\n",
       "      <td>NaN</td>\n",
       "    </tr>\n",
       "    <tr>\n",
       "      <th>2</th>\n",
       "      <td>34</td>\n",
       "      <td>147</td>\n",
       "      <td>26.9</td>\n",
       "      <td>76</td>\n",
       "      <td>74</td>\n",
       "      <td>1.6958</td>\n",
       "      <td>53</td>\n",
       "      <td>2</td>\n",
       "      <td>NaN</td>\n",
       "    </tr>\n",
       "    <tr>\n",
       "      <th>3</th>\n",
       "      <td>35</td>\n",
       "      <td>206</td>\n",
       "      <td>32.4</td>\n",
       "      <td>73</td>\n",
       "      <td>127</td>\n",
       "      <td>1.4608</td>\n",
       "      <td>61</td>\n",
       "      <td>6</td>\n",
       "      <td>NaN</td>\n",
       "    </tr>\n",
       "    <tr>\n",
       "      <th>4</th>\n",
       "      <td>60</td>\n",
       "      <td>193</td>\n",
       "      <td>29.8</td>\n",
       "      <td>62</td>\n",
       "      <td>192</td>\n",
       "      <td>1.7798</td>\n",
       "      <td>65</td>\n",
       "      <td>9</td>\n",
       "      <td>NaN</td>\n",
       "    </tr>\n",
       "  </tbody>\n",
       "</table>\n",
       "</div>"
      ],
      "text/plain": [
       "   age  weight   bmi  blood_pressure  insulin_test  liver_stress_test  \\\n",
       "0   24     151  39.5              69            72             1.3968   \n",
       "1   27     179  35.5              89           156             1.6608   \n",
       "2   34     147  26.9              76            74             1.6958   \n",
       "3   35     206  32.4              73           127             1.4608   \n",
       "4   60     193  29.8              62           192             1.7798   \n",
       "\n",
       "   cardio_stress_test  years_smoking  zeta_disease  \n",
       "0                  56              4           NaN  \n",
       "1                  43              6           NaN  \n",
       "2                  53              2           NaN  \n",
       "3                  61              6           NaN  \n",
       "4                  65              9           NaN  "
      ]
     },
     "execution_count": 235,
     "metadata": {},
     "output_type": "execute_result"
    }
   ],
   "source": [
    "df_test = pd.read_csv('2021-01-21_zeta-disease_prediction-data_dsi-take-home-challenge.csv')\n",
    "df_test.head()"
   ]
  },
  {
   "cell_type": "code",
   "execution_count": 237,
   "metadata": {},
   "outputs": [
    {
     "data": {
      "text/html": [
       "<div>\n",
       "<style scoped>\n",
       "    .dataframe tbody tr th:only-of-type {\n",
       "        vertical-align: middle;\n",
       "    }\n",
       "\n",
       "    .dataframe tbody tr th {\n",
       "        vertical-align: top;\n",
       "    }\n",
       "\n",
       "    .dataframe thead th {\n",
       "        text-align: right;\n",
       "    }\n",
       "</style>\n",
       "<table border=\"1\" class=\"dataframe\">\n",
       "  <thead>\n",
       "    <tr style=\"text-align: right;\">\n",
       "      <th></th>\n",
       "      <th>age</th>\n",
       "      <th>weight</th>\n",
       "      <th>bmi</th>\n",
       "      <th>blood_pressure</th>\n",
       "      <th>insulin_test</th>\n",
       "      <th>liver_stress_test</th>\n",
       "      <th>cardio_stress_test</th>\n",
       "      <th>years_smoking</th>\n",
       "      <th>zeta_disease</th>\n",
       "      <th>age_boxcox</th>\n",
       "      <th>insulin_test_boxcox</th>\n",
       "      <th>blood_pressure_boxcox</th>\n",
       "      <th>liver_stress_test_boxcox</th>\n",
       "      <th>years_smoking_boxcox</th>\n",
       "    </tr>\n",
       "  </thead>\n",
       "  <tbody>\n",
       "    <tr>\n",
       "      <th>0</th>\n",
       "      <td>24</td>\n",
       "      <td>151</td>\n",
       "      <td>39.5</td>\n",
       "      <td>69</td>\n",
       "      <td>72</td>\n",
       "      <td>1.3968</td>\n",
       "      <td>56</td>\n",
       "      <td>4</td>\n",
       "      <td>NaN</td>\n",
       "      <td>3.470650</td>\n",
       "      <td>4.195325</td>\n",
       "      <td>0.940059</td>\n",
       "      <td>0.345031</td>\n",
       "      <td>1.380107</td>\n",
       "    </tr>\n",
       "    <tr>\n",
       "      <th>1</th>\n",
       "      <td>27</td>\n",
       "      <td>179</td>\n",
       "      <td>35.5</td>\n",
       "      <td>89</td>\n",
       "      <td>156</td>\n",
       "      <td>1.6608</td>\n",
       "      <td>43</td>\n",
       "      <td>6</td>\n",
       "      <td>NaN</td>\n",
       "      <td>3.602503</td>\n",
       "      <td>4.924471</td>\n",
       "      <td>0.942594</td>\n",
       "      <td>0.354462</td>\n",
       "      <td>1.617554</td>\n",
       "    </tr>\n",
       "    <tr>\n",
       "      <th>2</th>\n",
       "      <td>34</td>\n",
       "      <td>147</td>\n",
       "      <td>26.9</td>\n",
       "      <td>76</td>\n",
       "      <td>74</td>\n",
       "      <td>1.6958</td>\n",
       "      <td>53</td>\n",
       "      <td>2</td>\n",
       "      <td>NaN</td>\n",
       "      <td>3.864148</td>\n",
       "      <td>4.221161</td>\n",
       "      <td>0.941100</td>\n",
       "      <td>0.355471</td>\n",
       "      <td>0.988286</td>\n",
       "    </tr>\n",
       "    <tr>\n",
       "      <th>3</th>\n",
       "      <td>35</td>\n",
       "      <td>206</td>\n",
       "      <td>32.4</td>\n",
       "      <td>73</td>\n",
       "      <td>127</td>\n",
       "      <td>1.4608</td>\n",
       "      <td>61</td>\n",
       "      <td>6</td>\n",
       "      <td>NaN</td>\n",
       "      <td>3.897372</td>\n",
       "      <td>4.730599</td>\n",
       "      <td>0.940679</td>\n",
       "      <td>0.347656</td>\n",
       "      <td>1.617554</td>\n",
       "    </tr>\n",
       "    <tr>\n",
       "      <th>4</th>\n",
       "      <td>60</td>\n",
       "      <td>193</td>\n",
       "      <td>29.8</td>\n",
       "      <td>62</td>\n",
       "      <td>192</td>\n",
       "      <td>1.7798</td>\n",
       "      <td>65</td>\n",
       "      <td>9</td>\n",
       "      <td>NaN</td>\n",
       "      <td>4.527369</td>\n",
       "      <td>5.120038</td>\n",
       "      <td>0.938781</td>\n",
       "      <td>0.357711</td>\n",
       "      <td>1.852717</td>\n",
       "    </tr>\n",
       "  </tbody>\n",
       "</table>\n",
       "</div>"
      ],
      "text/plain": [
       "   age  weight   bmi  blood_pressure  insulin_test  liver_stress_test  \\\n",
       "0   24     151  39.5              69            72             1.3968   \n",
       "1   27     179  35.5              89           156             1.6608   \n",
       "2   34     147  26.9              76            74             1.6958   \n",
       "3   35     206  32.4              73           127             1.4608   \n",
       "4   60     193  29.8              62           192             1.7798   \n",
       "\n",
       "   cardio_stress_test  years_smoking  zeta_disease  age_boxcox  \\\n",
       "0                  56              4           NaN    3.470650   \n",
       "1                  43              6           NaN    3.602503   \n",
       "2                  53              2           NaN    3.864148   \n",
       "3                  61              6           NaN    3.897372   \n",
       "4                  65              9           NaN    4.527369   \n",
       "\n",
       "   insulin_test_boxcox  blood_pressure_boxcox  liver_stress_test_boxcox  \\\n",
       "0             4.195325               0.940059                  0.345031   \n",
       "1             4.924471               0.942594                  0.354462   \n",
       "2             4.221161               0.941100                  0.355471   \n",
       "3             4.730599               0.940679                  0.347656   \n",
       "4             5.120038               0.938781                  0.357711   \n",
       "\n",
       "   years_smoking_boxcox  \n",
       "0              1.380107  \n",
       "1              1.617554  \n",
       "2              0.988286  \n",
       "3              1.617554  \n",
       "4              1.852717  "
      ]
     },
     "execution_count": 237,
     "metadata": {},
     "output_type": "execute_result"
    }
   ],
   "source": [
    "# Applying boxcox on the skewed data \n",
    "for col in cols_skewed:\n",
    "    new_col = col+'_boxcox'\n",
    "    df_test[new_col] = stats.boxcox(df_test[col]+1)[0] #adding 1 for a workaround for zero.\n",
    "df_test.head()"
   ]
  },
  {
   "cell_type": "code",
   "execution_count": 238,
   "metadata": {},
   "outputs": [],
   "source": [
    "df_test.drop(cols_skewed, axis=1, inplace=True)"
   ]
  },
  {
   "cell_type": "code",
   "execution_count": 239,
   "metadata": {},
   "outputs": [
    {
     "data": {
      "text/html": [
       "<div>\n",
       "<style scoped>\n",
       "    .dataframe tbody tr th:only-of-type {\n",
       "        vertical-align: middle;\n",
       "    }\n",
       "\n",
       "    .dataframe tbody tr th {\n",
       "        vertical-align: top;\n",
       "    }\n",
       "\n",
       "    .dataframe thead th {\n",
       "        text-align: right;\n",
       "    }\n",
       "</style>\n",
       "<table border=\"1\" class=\"dataframe\">\n",
       "  <thead>\n",
       "    <tr style=\"text-align: right;\">\n",
       "      <th></th>\n",
       "      <th>weight</th>\n",
       "      <th>bmi</th>\n",
       "      <th>cardio_stress_test</th>\n",
       "      <th>zeta_disease</th>\n",
       "      <th>age_boxcox</th>\n",
       "      <th>insulin_test_boxcox</th>\n",
       "      <th>blood_pressure_boxcox</th>\n",
       "      <th>liver_stress_test_boxcox</th>\n",
       "      <th>years_smoking_boxcox</th>\n",
       "    </tr>\n",
       "  </thead>\n",
       "  <tbody>\n",
       "    <tr>\n",
       "      <th>0</th>\n",
       "      <td>151</td>\n",
       "      <td>39.5</td>\n",
       "      <td>56</td>\n",
       "      <td>NaN</td>\n",
       "      <td>3.470650</td>\n",
       "      <td>4.195325</td>\n",
       "      <td>0.940059</td>\n",
       "      <td>0.345031</td>\n",
       "      <td>1.380107</td>\n",
       "    </tr>\n",
       "    <tr>\n",
       "      <th>1</th>\n",
       "      <td>179</td>\n",
       "      <td>35.5</td>\n",
       "      <td>43</td>\n",
       "      <td>NaN</td>\n",
       "      <td>3.602503</td>\n",
       "      <td>4.924471</td>\n",
       "      <td>0.942594</td>\n",
       "      <td>0.354462</td>\n",
       "      <td>1.617554</td>\n",
       "    </tr>\n",
       "    <tr>\n",
       "      <th>2</th>\n",
       "      <td>147</td>\n",
       "      <td>26.9</td>\n",
       "      <td>53</td>\n",
       "      <td>NaN</td>\n",
       "      <td>3.864148</td>\n",
       "      <td>4.221161</td>\n",
       "      <td>0.941100</td>\n",
       "      <td>0.355471</td>\n",
       "      <td>0.988286</td>\n",
       "    </tr>\n",
       "    <tr>\n",
       "      <th>3</th>\n",
       "      <td>206</td>\n",
       "      <td>32.4</td>\n",
       "      <td>61</td>\n",
       "      <td>NaN</td>\n",
       "      <td>3.897372</td>\n",
       "      <td>4.730599</td>\n",
       "      <td>0.940679</td>\n",
       "      <td>0.347656</td>\n",
       "      <td>1.617554</td>\n",
       "    </tr>\n",
       "    <tr>\n",
       "      <th>4</th>\n",
       "      <td>193</td>\n",
       "      <td>29.8</td>\n",
       "      <td>65</td>\n",
       "      <td>NaN</td>\n",
       "      <td>4.527369</td>\n",
       "      <td>5.120038</td>\n",
       "      <td>0.938781</td>\n",
       "      <td>0.357711</td>\n",
       "      <td>1.852717</td>\n",
       "    </tr>\n",
       "  </tbody>\n",
       "</table>\n",
       "</div>"
      ],
      "text/plain": [
       "   weight   bmi  cardio_stress_test  zeta_disease  age_boxcox  \\\n",
       "0     151  39.5                  56           NaN    3.470650   \n",
       "1     179  35.5                  43           NaN    3.602503   \n",
       "2     147  26.9                  53           NaN    3.864148   \n",
       "3     206  32.4                  61           NaN    3.897372   \n",
       "4     193  29.8                  65           NaN    4.527369   \n",
       "\n",
       "   insulin_test_boxcox  blood_pressure_boxcox  liver_stress_test_boxcox  \\\n",
       "0             4.195325               0.940059                  0.345031   \n",
       "1             4.924471               0.942594                  0.354462   \n",
       "2             4.221161               0.941100                  0.355471   \n",
       "3             4.730599               0.940679                  0.347656   \n",
       "4             5.120038               0.938781                  0.357711   \n",
       "\n",
       "   years_smoking_boxcox  \n",
       "0              1.380107  \n",
       "1              1.617554  \n",
       "2              0.988286  \n",
       "3              1.617554  \n",
       "4              1.852717  "
      ]
     },
     "execution_count": 239,
     "metadata": {},
     "output_type": "execute_result"
    }
   ],
   "source": [
    "df_test.head()"
   ]
  },
  {
   "cell_type": "code",
   "execution_count": 240,
   "metadata": {},
   "outputs": [
    {
     "data": {
      "text/html": [
       "<div>\n",
       "<style scoped>\n",
       "    .dataframe tbody tr th:only-of-type {\n",
       "        vertical-align: middle;\n",
       "    }\n",
       "\n",
       "    .dataframe tbody tr th {\n",
       "        vertical-align: top;\n",
       "    }\n",
       "\n",
       "    .dataframe thead th {\n",
       "        text-align: right;\n",
       "    }\n",
       "</style>\n",
       "<table border=\"1\" class=\"dataframe\">\n",
       "  <thead>\n",
       "    <tr style=\"text-align: right;\">\n",
       "      <th></th>\n",
       "      <th>weight</th>\n",
       "      <th>bmi</th>\n",
       "      <th>cardio_stress_test</th>\n",
       "      <th>age_boxcox</th>\n",
       "      <th>insulin_test_boxcox</th>\n",
       "      <th>blood_pressure_boxcox</th>\n",
       "      <th>liver_stress_test_boxcox</th>\n",
       "      <th>years_smoking_boxcox</th>\n",
       "    </tr>\n",
       "  </thead>\n",
       "  <tbody>\n",
       "    <tr>\n",
       "      <th>0</th>\n",
       "      <td>151</td>\n",
       "      <td>39.5</td>\n",
       "      <td>56</td>\n",
       "      <td>3.470650</td>\n",
       "      <td>4.195325</td>\n",
       "      <td>0.940059</td>\n",
       "      <td>0.345031</td>\n",
       "      <td>1.380107</td>\n",
       "    </tr>\n",
       "    <tr>\n",
       "      <th>1</th>\n",
       "      <td>179</td>\n",
       "      <td>35.5</td>\n",
       "      <td>43</td>\n",
       "      <td>3.602503</td>\n",
       "      <td>4.924471</td>\n",
       "      <td>0.942594</td>\n",
       "      <td>0.354462</td>\n",
       "      <td>1.617554</td>\n",
       "    </tr>\n",
       "    <tr>\n",
       "      <th>2</th>\n",
       "      <td>147</td>\n",
       "      <td>26.9</td>\n",
       "      <td>53</td>\n",
       "      <td>3.864148</td>\n",
       "      <td>4.221161</td>\n",
       "      <td>0.941100</td>\n",
       "      <td>0.355471</td>\n",
       "      <td>0.988286</td>\n",
       "    </tr>\n",
       "    <tr>\n",
       "      <th>3</th>\n",
       "      <td>206</td>\n",
       "      <td>32.4</td>\n",
       "      <td>61</td>\n",
       "      <td>3.897372</td>\n",
       "      <td>4.730599</td>\n",
       "      <td>0.940679</td>\n",
       "      <td>0.347656</td>\n",
       "      <td>1.617554</td>\n",
       "    </tr>\n",
       "    <tr>\n",
       "      <th>4</th>\n",
       "      <td>193</td>\n",
       "      <td>29.8</td>\n",
       "      <td>65</td>\n",
       "      <td>4.527369</td>\n",
       "      <td>5.120038</td>\n",
       "      <td>0.938781</td>\n",
       "      <td>0.357711</td>\n",
       "      <td>1.852717</td>\n",
       "    </tr>\n",
       "  </tbody>\n",
       "</table>\n",
       "</div>"
      ],
      "text/plain": [
       "   weight   bmi  cardio_stress_test  age_boxcox  insulin_test_boxcox  \\\n",
       "0     151  39.5                  56    3.470650             4.195325   \n",
       "1     179  35.5                  43    3.602503             4.924471   \n",
       "2     147  26.9                  53    3.864148             4.221161   \n",
       "3     206  32.4                  61    3.897372             4.730599   \n",
       "4     193  29.8                  65    4.527369             5.120038   \n",
       "\n",
       "   blood_pressure_boxcox  liver_stress_test_boxcox  years_smoking_boxcox  \n",
       "0               0.940059                  0.345031              1.380107  \n",
       "1               0.942594                  0.354462              1.617554  \n",
       "2               0.941100                  0.355471              0.988286  \n",
       "3               0.940679                  0.347656              1.617554  \n",
       "4               0.938781                  0.357711              1.852717  "
      ]
     },
     "execution_count": 240,
     "metadata": {},
     "output_type": "execute_result"
    }
   ],
   "source": [
    "X_asked = df_test.drop('zeta_disease', axis=1)\n",
    "X_asked.head()"
   ]
  },
  {
   "cell_type": "code",
   "execution_count": 242,
   "metadata": {},
   "outputs": [
    {
     "data": {
      "text/html": [
       "<div>\n",
       "<style scoped>\n",
       "    .dataframe tbody tr th:only-of-type {\n",
       "        vertical-align: middle;\n",
       "    }\n",
       "\n",
       "    .dataframe tbody tr th {\n",
       "        vertical-align: top;\n",
       "    }\n",
       "\n",
       "    .dataframe thead th {\n",
       "        text-align: right;\n",
       "    }\n",
       "</style>\n",
       "<table border=\"1\" class=\"dataframe\">\n",
       "  <thead>\n",
       "    <tr style=\"text-align: right;\">\n",
       "      <th></th>\n",
       "      <th>weight</th>\n",
       "      <th>bmi</th>\n",
       "      <th>cardio_stress_test</th>\n",
       "      <th>age_boxcox</th>\n",
       "      <th>insulin_test_boxcox</th>\n",
       "      <th>blood_pressure_boxcox</th>\n",
       "      <th>liver_stress_test_boxcox</th>\n",
       "      <th>years_smoking_boxcox</th>\n",
       "    </tr>\n",
       "  </thead>\n",
       "  <tbody>\n",
       "    <tr>\n",
       "      <th>0</th>\n",
       "      <td>-0.670609</td>\n",
       "      <td>0.854230</td>\n",
       "      <td>0.423769</td>\n",
       "      <td>274.508809</td>\n",
       "      <td>0.606986</td>\n",
       "      <td>-2.914722</td>\n",
       "      <td>1.420138</td>\n",
       "      <td>-0.041663</td>\n",
       "    </tr>\n",
       "    <tr>\n",
       "      <th>1</th>\n",
       "      <td>0.206516</td>\n",
       "      <td>0.386054</td>\n",
       "      <td>-0.003990</td>\n",
       "      <td>288.671656</td>\n",
       "      <td>0.895515</td>\n",
       "      <td>-2.914695</td>\n",
       "      <td>1.562466</td>\n",
       "      <td>0.232610</td>\n",
       "    </tr>\n",
       "    <tr>\n",
       "      <th>2</th>\n",
       "      <td>-0.795913</td>\n",
       "      <td>-0.620522</td>\n",
       "      <td>0.325056</td>\n",
       "      <td>316.775999</td>\n",
       "      <td>0.617209</td>\n",
       "      <td>-2.914711</td>\n",
       "      <td>1.577697</td>\n",
       "      <td>-0.494253</td>\n",
       "    </tr>\n",
       "    <tr>\n",
       "      <th>3</th>\n",
       "      <td>1.052315</td>\n",
       "      <td>0.023219</td>\n",
       "      <td>0.588292</td>\n",
       "      <td>320.344698</td>\n",
       "      <td>0.818798</td>\n",
       "      <td>-2.914715</td>\n",
       "      <td>1.459755</td>\n",
       "      <td>0.232610</td>\n",
       "    </tr>\n",
       "    <tr>\n",
       "      <th>4</th>\n",
       "      <td>0.645079</td>\n",
       "      <td>-0.281095</td>\n",
       "      <td>0.719910</td>\n",
       "      <td>388.015103</td>\n",
       "      <td>0.972902</td>\n",
       "      <td>-2.914735</td>\n",
       "      <td>1.611491</td>\n",
       "      <td>0.504246</td>\n",
       "    </tr>\n",
       "  </tbody>\n",
       "</table>\n",
       "</div>"
      ],
      "text/plain": [
       "     weight       bmi  cardio_stress_test  age_boxcox  insulin_test_boxcox  \\\n",
       "0 -0.670609  0.854230            0.423769  274.508809             0.606986   \n",
       "1  0.206516  0.386054           -0.003990  288.671656             0.895515   \n",
       "2 -0.795913 -0.620522            0.325056  316.775999             0.617209   \n",
       "3  1.052315  0.023219            0.588292  320.344698             0.818798   \n",
       "4  0.645079 -0.281095            0.719910  388.015103             0.972902   \n",
       "\n",
       "   blood_pressure_boxcox  liver_stress_test_boxcox  years_smoking_boxcox  \n",
       "0              -2.914722                  1.420138             -0.041663  \n",
       "1              -2.914695                  1.562466              0.232610  \n",
       "2              -2.914711                  1.577697             -0.494253  \n",
       "3              -2.914715                  1.459755              0.232610  \n",
       "4              -2.914735                  1.611491              0.504246  "
      ]
     },
     "execution_count": 242,
     "metadata": {},
     "output_type": "execute_result"
    }
   ],
   "source": [
    "X_asked_scaled = pd.DataFrame(scaler.transform(X_asked))\n",
    "X_asked_scaled.columns = cols_X\n",
    "X_asked_scaled.head()"
   ]
  },
  {
   "cell_type": "code",
   "execution_count": 244,
   "metadata": {},
   "outputs": [],
   "source": [
    "df_test.zeta_disease = best_model.predict(X_asked_scaled)"
   ]
  },
  {
   "cell_type": "markdown",
   "metadata": {},
   "source": [
    "# 4.2. The final test data sets, along with the predictions"
   ]
  },
  {
   "cell_type": "code",
   "execution_count": 245,
   "metadata": {},
   "outputs": [
    {
     "data": {
      "text/html": [
       "<div>\n",
       "<style scoped>\n",
       "    .dataframe tbody tr th:only-of-type {\n",
       "        vertical-align: middle;\n",
       "    }\n",
       "\n",
       "    .dataframe tbody tr th {\n",
       "        vertical-align: top;\n",
       "    }\n",
       "\n",
       "    .dataframe thead th {\n",
       "        text-align: right;\n",
       "    }\n",
       "</style>\n",
       "<table border=\"1\" class=\"dataframe\">\n",
       "  <thead>\n",
       "    <tr style=\"text-align: right;\">\n",
       "      <th></th>\n",
       "      <th>weight</th>\n",
       "      <th>bmi</th>\n",
       "      <th>cardio_stress_test</th>\n",
       "      <th>zeta_disease</th>\n",
       "      <th>age_boxcox</th>\n",
       "      <th>insulin_test_boxcox</th>\n",
       "      <th>blood_pressure_boxcox</th>\n",
       "      <th>liver_stress_test_boxcox</th>\n",
       "      <th>years_smoking_boxcox</th>\n",
       "    </tr>\n",
       "  </thead>\n",
       "  <tbody>\n",
       "    <tr>\n",
       "      <th>0</th>\n",
       "      <td>151</td>\n",
       "      <td>39.5</td>\n",
       "      <td>56</td>\n",
       "      <td>0</td>\n",
       "      <td>3.470650</td>\n",
       "      <td>4.195325</td>\n",
       "      <td>0.940059</td>\n",
       "      <td>0.345031</td>\n",
       "      <td>1.380107</td>\n",
       "    </tr>\n",
       "    <tr>\n",
       "      <th>1</th>\n",
       "      <td>179</td>\n",
       "      <td>35.5</td>\n",
       "      <td>43</td>\n",
       "      <td>1</td>\n",
       "      <td>3.602503</td>\n",
       "      <td>4.924471</td>\n",
       "      <td>0.942594</td>\n",
       "      <td>0.354462</td>\n",
       "      <td>1.617554</td>\n",
       "    </tr>\n",
       "    <tr>\n",
       "      <th>2</th>\n",
       "      <td>147</td>\n",
       "      <td>26.9</td>\n",
       "      <td>53</td>\n",
       "      <td>0</td>\n",
       "      <td>3.864148</td>\n",
       "      <td>4.221161</td>\n",
       "      <td>0.941100</td>\n",
       "      <td>0.355471</td>\n",
       "      <td>0.988286</td>\n",
       "    </tr>\n",
       "    <tr>\n",
       "      <th>3</th>\n",
       "      <td>206</td>\n",
       "      <td>32.4</td>\n",
       "      <td>61</td>\n",
       "      <td>1</td>\n",
       "      <td>3.897372</td>\n",
       "      <td>4.730599</td>\n",
       "      <td>0.940679</td>\n",
       "      <td>0.347656</td>\n",
       "      <td>1.617554</td>\n",
       "    </tr>\n",
       "    <tr>\n",
       "      <th>4</th>\n",
       "      <td>193</td>\n",
       "      <td>29.8</td>\n",
       "      <td>65</td>\n",
       "      <td>1</td>\n",
       "      <td>4.527369</td>\n",
       "      <td>5.120038</td>\n",
       "      <td>0.938781</td>\n",
       "      <td>0.357711</td>\n",
       "      <td>1.852717</td>\n",
       "    </tr>\n",
       "    <tr>\n",
       "      <th>5</th>\n",
       "      <td>120</td>\n",
       "      <td>36.5</td>\n",
       "      <td>54</td>\n",
       "      <td>0</td>\n",
       "      <td>4.188295</td>\n",
       "      <td>3.851832</td>\n",
       "      <td>0.944122</td>\n",
       "      <td>0.340436</td>\n",
       "      <td>2.015493</td>\n",
       "    </tr>\n",
       "    <tr>\n",
       "      <th>6</th>\n",
       "      <td>139</td>\n",
       "      <td>38.2</td>\n",
       "      <td>68</td>\n",
       "      <td>0</td>\n",
       "      <td>3.269141</td>\n",
       "      <td>4.258637</td>\n",
       "      <td>0.938574</td>\n",
       "      <td>0.351999</td>\n",
       "      <td>1.213767</td>\n",
       "    </tr>\n",
       "    <tr>\n",
       "      <th>7</th>\n",
       "      <td>137</td>\n",
       "      <td>31.2</td>\n",
       "      <td>59</td>\n",
       "      <td>0</td>\n",
       "      <td>3.423324</td>\n",
       "      <td>4.208331</td>\n",
       "      <td>0.940221</td>\n",
       "      <td>0.345878</td>\n",
       "      <td>1.707526</td>\n",
       "    </tr>\n",
       "    <tr>\n",
       "      <th>8</th>\n",
       "      <td>195</td>\n",
       "      <td>30.5</td>\n",
       "      <td>59</td>\n",
       "      <td>1</td>\n",
       "      <td>3.929727</td>\n",
       "      <td>4.829191</td>\n",
       "      <td>0.938139</td>\n",
       "      <td>0.347223</td>\n",
       "      <td>1.617554</td>\n",
       "    </tr>\n",
       "    <tr>\n",
       "      <th>9</th>\n",
       "      <td>193</td>\n",
       "      <td>25.8</td>\n",
       "      <td>50</td>\n",
       "      <td>0</td>\n",
       "      <td>3.213042</td>\n",
       "      <td>4.113297</td>\n",
       "      <td>0.942075</td>\n",
       "      <td>0.358061</td>\n",
       "      <td>1.213767</td>\n",
       "    </tr>\n",
       "    <tr>\n",
       "      <th>10</th>\n",
       "      <td>216</td>\n",
       "      <td>34.7</td>\n",
       "      <td>58</td>\n",
       "      <td>1</td>\n",
       "      <td>4.239143</td>\n",
       "      <td>5.005440</td>\n",
       "      <td>0.940221</td>\n",
       "      <td>0.356245</td>\n",
       "      <td>1.707526</td>\n",
       "    </tr>\n",
       "    <tr>\n",
       "      <th>11</th>\n",
       "      <td>200</td>\n",
       "      <td>30.4</td>\n",
       "      <td>60</td>\n",
       "      <td>1</td>\n",
       "      <td>4.051315</td>\n",
       "      <td>4.737995</td>\n",
       "      <td>0.940059</td>\n",
       "      <td>0.341129</td>\n",
       "      <td>1.213767</td>\n",
       "    </tr>\n",
       "    <tr>\n",
       "      <th>12</th>\n",
       "      <td>154</td>\n",
       "      <td>46.5</td>\n",
       "      <td>68</td>\n",
       "      <td>1</td>\n",
       "      <td>3.322748</td>\n",
       "      <td>4.684961</td>\n",
       "      <td>0.942495</td>\n",
       "      <td>0.337940</td>\n",
       "      <td>1.380107</td>\n",
       "    </tr>\n",
       "    <tr>\n",
       "      <th>13</th>\n",
       "      <td>196</td>\n",
       "      <td>31.3</td>\n",
       "      <td>66</td>\n",
       "      <td>1</td>\n",
       "      <td>4.357921</td>\n",
       "      <td>4.988668</td>\n",
       "      <td>0.942691</td>\n",
       "      <td>0.361029</td>\n",
       "      <td>1.912821</td>\n",
       "    </tr>\n",
       "    <tr>\n",
       "      <th>14</th>\n",
       "      <td>181</td>\n",
       "      <td>37.4</td>\n",
       "      <td>80</td>\n",
       "      <td>1</td>\n",
       "      <td>3.721513</td>\n",
       "      <td>4.930492</td>\n",
       "      <td>0.942968</td>\n",
       "      <td>0.363504</td>\n",
       "      <td>1.510714</td>\n",
       "    </tr>\n",
       "    <tr>\n",
       "      <th>15</th>\n",
       "      <td>213</td>\n",
       "      <td>26.5</td>\n",
       "      <td>55</td>\n",
       "      <td>1</td>\n",
       "      <td>4.213977</td>\n",
       "      <td>4.774125</td>\n",
       "      <td>0.940221</td>\n",
       "      <td>0.348351</td>\n",
       "      <td>2.015493</td>\n",
       "    </tr>\n",
       "    <tr>\n",
       "      <th>16</th>\n",
       "      <td>173</td>\n",
       "      <td>50.7</td>\n",
       "      <td>83</td>\n",
       "      <td>1</td>\n",
       "      <td>3.683112</td>\n",
       "      <td>5.252408</td>\n",
       "      <td>0.942785</td>\n",
       "      <td>0.348692</td>\n",
       "      <td>1.213767</td>\n",
       "    </tr>\n",
       "    <tr>\n",
       "      <th>17</th>\n",
       "      <td>202</td>\n",
       "      <td>42.8</td>\n",
       "      <td>72</td>\n",
       "      <td>1</td>\n",
       "      <td>3.929727</td>\n",
       "      <td>5.451042</td>\n",
       "      <td>0.940531</td>\n",
       "      <td>0.359966</td>\n",
       "      <td>2.059974</td>\n",
       "    </tr>\n",
       "    <tr>\n",
       "      <th>18</th>\n",
       "      <td>197</td>\n",
       "      <td>29.1</td>\n",
       "      <td>69</td>\n",
       "      <td>1</td>\n",
       "      <td>3.602503</td>\n",
       "      <td>5.715839</td>\n",
       "      <td>0.940531</td>\n",
       "      <td>0.346416</td>\n",
       "      <td>1.380107</td>\n",
       "    </tr>\n",
       "    <tr>\n",
       "      <th>19</th>\n",
       "      <td>184</td>\n",
       "      <td>33.9</td>\n",
       "      <td>60</td>\n",
       "      <td>1</td>\n",
       "      <td>4.162074</td>\n",
       "      <td>4.829191</td>\n",
       "      <td>0.943848</td>\n",
       "      <td>0.341855</td>\n",
       "      <td>0.988286</td>\n",
       "    </tr>\n",
       "  </tbody>\n",
       "</table>\n",
       "</div>"
      ],
      "text/plain": [
       "    weight   bmi  cardio_stress_test  zeta_disease  age_boxcox  \\\n",
       "0      151  39.5                  56             0    3.470650   \n",
       "1      179  35.5                  43             1    3.602503   \n",
       "2      147  26.9                  53             0    3.864148   \n",
       "3      206  32.4                  61             1    3.897372   \n",
       "4      193  29.8                  65             1    4.527369   \n",
       "5      120  36.5                  54             0    4.188295   \n",
       "6      139  38.2                  68             0    3.269141   \n",
       "7      137  31.2                  59             0    3.423324   \n",
       "8      195  30.5                  59             1    3.929727   \n",
       "9      193  25.8                  50             0    3.213042   \n",
       "10     216  34.7                  58             1    4.239143   \n",
       "11     200  30.4                  60             1    4.051315   \n",
       "12     154  46.5                  68             1    3.322748   \n",
       "13     196  31.3                  66             1    4.357921   \n",
       "14     181  37.4                  80             1    3.721513   \n",
       "15     213  26.5                  55             1    4.213977   \n",
       "16     173  50.7                  83             1    3.683112   \n",
       "17     202  42.8                  72             1    3.929727   \n",
       "18     197  29.1                  69             1    3.602503   \n",
       "19     184  33.9                  60             1    4.162074   \n",
       "\n",
       "    insulin_test_boxcox  blood_pressure_boxcox  liver_stress_test_boxcox  \\\n",
       "0              4.195325               0.940059                  0.345031   \n",
       "1              4.924471               0.942594                  0.354462   \n",
       "2              4.221161               0.941100                  0.355471   \n",
       "3              4.730599               0.940679                  0.347656   \n",
       "4              5.120038               0.938781                  0.357711   \n",
       "5              3.851832               0.944122                  0.340436   \n",
       "6              4.258637               0.938574                  0.351999   \n",
       "7              4.208331               0.940221                  0.345878   \n",
       "8              4.829191               0.938139                  0.347223   \n",
       "9              4.113297               0.942075                  0.358061   \n",
       "10             5.005440               0.940221                  0.356245   \n",
       "11             4.737995               0.940059                  0.341129   \n",
       "12             4.684961               0.942495                  0.337940   \n",
       "13             4.988668               0.942691                  0.361029   \n",
       "14             4.930492               0.942968                  0.363504   \n",
       "15             4.774125               0.940221                  0.348351   \n",
       "16             5.252408               0.942785                  0.348692   \n",
       "17             5.451042               0.940531                  0.359966   \n",
       "18             5.715839               0.940531                  0.346416   \n",
       "19             4.829191               0.943848                  0.341855   \n",
       "\n",
       "    years_smoking_boxcox  \n",
       "0               1.380107  \n",
       "1               1.617554  \n",
       "2               0.988286  \n",
       "3               1.617554  \n",
       "4               1.852717  \n",
       "5               2.015493  \n",
       "6               1.213767  \n",
       "7               1.707526  \n",
       "8               1.617554  \n",
       "9               1.213767  \n",
       "10              1.707526  \n",
       "11              1.213767  \n",
       "12              1.380107  \n",
       "13              1.912821  \n",
       "14              1.510714  \n",
       "15              2.015493  \n",
       "16              1.213767  \n",
       "17              2.059974  \n",
       "18              1.380107  \n",
       "19              0.988286  "
      ]
     },
     "execution_count": 245,
     "metadata": {},
     "output_type": "execute_result"
    }
   ],
   "source": [
    "df_test"
   ]
  },
  {
   "cell_type": "code",
   "execution_count": null,
   "metadata": {},
   "outputs": [],
   "source": []
  }
 ],
 "metadata": {
  "kernelspec": {
   "display_name": "Python 3",
   "language": "python",
   "name": "python3"
  },
  "language_info": {
   "codemirror_mode": {
    "name": "ipython",
    "version": 3
   },
   "file_extension": ".py",
   "mimetype": "text/x-python",
   "name": "python",
   "nbconvert_exporter": "python",
   "pygments_lexer": "ipython3",
   "version": "3.6.7"
  }
 },
 "nbformat": 4,
 "nbformat_minor": 4
}
